{
 "cells": [
  {
   "cell_type": "markdown",
   "metadata": {},
   "source": [
    "# Himanshi Sharma\n",
    "\n",
    "## Issues Faced\n",
    "I faced some issues with Neural Networks - Multilayer Perceptron Classifier, while setting baseline fully connected neural network classifier with one hidden layer.\n",
    "Since we have dropped one of the variable (duration) the layers had to be changed. I just simple adjusted the layers in the function for classifer so that my code can work. To be specific I just changes 53 to 52."
   ]
  },
  {
   "cell_type": "markdown",
   "metadata": {},
   "source": [
    "# Part I\n",
    "## Importing packages"
   ]
  },
  {
   "cell_type": "code",
   "execution_count": 1,
   "metadata": {},
   "outputs": [],
   "source": [
    "# Importing packages necessary for building classification models\n",
    "from pyspark.ml.feature import RFormula\n",
    "from pyspark.ml.classification import LogisticRegression\\\n",
    ",LinearSVC, MultilayerPerceptronClassifier,NaiveBayes\\\n",
    ",GBTClassifier,RandomForestClassifier, DecisionTreeClassifier"
   ]
  },
  {
   "cell_type": "code",
   "execution_count": 2,
   "metadata": {},
   "outputs": [],
   "source": [
    "## Loading the CD_samples data without duration field"
   ]
  },
  {
   "cell_type": "code",
   "execution_count": 3,
   "metadata": {},
   "outputs": [
    {
     "name": "stdout",
     "output_type": "stream",
     "text": [
      "-RECORD 0---------------------\n",
      " age            | 56          \n",
      " job            | housemaid   \n",
      " marital        | married     \n",
      " education      | basic.4y    \n",
      " default        | no          \n",
      " housing        | no          \n",
      " loan           | no          \n",
      " contact        | telephone   \n",
      " month          | may         \n",
      " day_of_week    | mon         \n",
      " campaign       | 1           \n",
      " pdays          | 999         \n",
      " previous       | 0           \n",
      " poutcome       | nonexistent \n",
      " emp_var_rate   | 1.1         \n",
      " cons_price_idx | 93.994      \n",
      " cons_conf_idx  | -36.4       \n",
      " euribor3m      | 4.857       \n",
      " nr_employed    | 5191.0      \n",
      " y              | no          \n",
      "-RECORD 1---------------------\n",
      " age            | 45          \n",
      " job            | services    \n",
      " marital        | married     \n",
      " education      | basic.9y    \n",
      " default        | unknown     \n",
      " housing        | no          \n",
      " loan           | no          \n",
      " contact        | telephone   \n",
      " month          | may         \n",
      " day_of_week    | mon         \n",
      " campaign       | 1           \n",
      " pdays          | 999         \n",
      " previous       | 0           \n",
      " poutcome       | nonexistent \n",
      " emp_var_rate   | 1.1         \n",
      " cons_price_idx | 93.994      \n",
      " cons_conf_idx  | -36.4       \n",
      " euribor3m      | 4.857       \n",
      " nr_employed    | 5191.0      \n",
      " y              | no          \n",
      "-RECORD 2---------------------\n",
      " age            | 57          \n",
      " job            | housemaid   \n",
      " marital        | divorced    \n",
      " education      | basic.4y    \n",
      " default        | no          \n",
      " housing        | yes         \n",
      " loan           | no          \n",
      " contact        | telephone   \n",
      " month          | may         \n",
      " day_of_week    | mon         \n",
      " campaign       | 1           \n",
      " pdays          | 999         \n",
      " previous       | 0           \n",
      " poutcome       | nonexistent \n",
      " emp_var_rate   | 1.1         \n",
      " cons_price_idx | 93.994      \n",
      " cons_conf_idx  | -36.4       \n",
      " euribor3m      | 4.857       \n",
      " nr_employed    | 5191.0      \n",
      " y              | no          \n",
      "-RECORD 3---------------------\n",
      " age            | 35          \n",
      " job            | blue-collar \n",
      " marital        | married     \n",
      " education      | basic.6y    \n",
      " default        | no          \n",
      " housing        | yes         \n",
      " loan           | no          \n",
      " contact        | telephone   \n",
      " month          | may         \n",
      " day_of_week    | mon         \n",
      " campaign       | 1           \n",
      " pdays          | 999         \n",
      " previous       | 0           \n",
      " poutcome       | nonexistent \n",
      " emp_var_rate   | 1.1         \n",
      " cons_price_idx | 93.994      \n",
      " cons_conf_idx  | -36.4       \n",
      " euribor3m      | 4.857       \n",
      " nr_employed    | 5191.0      \n",
      " y              | no          \n",
      "-RECORD 4---------------------\n",
      " age            | 46          \n",
      " job            | blue-collar \n",
      " marital        | married     \n",
      " education      | basic.6y    \n",
      " default        | unknown     \n",
      " housing        | yes         \n",
      " loan           | yes         \n",
      " contact        | telephone   \n",
      " month          | may         \n",
      " day_of_week    | mon         \n",
      " campaign       | 1           \n",
      " pdays          | 999         \n",
      " previous       | 0           \n",
      " poutcome       | nonexistent \n",
      " emp_var_rate   | 1.1         \n",
      " cons_price_idx | 93.994      \n",
      " cons_conf_idx  | -36.4       \n",
      " euribor3m      | 4.857       \n",
      " nr_employed    | 5191.0      \n",
      " y              | no          \n",
      "only showing top 5 rows\n",
      "\n"
     ]
    }
   ],
   "source": [
    "CD_data = spark.read.csv(\"IS6493_lab3_CD_samples.csv\",  header = True, inferSchema=\"true\").drop(\"duration\")\n",
    "CD_data.show(5, vertical = True)"
   ]
  },
  {
   "cell_type": "code",
   "execution_count": 4,
   "metadata": {},
   "outputs": [
    {
     "name": "stdout",
     "output_type": "stream",
     "text": [
      "+---+-----+\n",
      "|  y|count|\n",
      "+---+-----+\n",
      "| no| 8910|\n",
      "|yes| 1090|\n",
      "+---+-----+\n",
      "\n"
     ]
    }
   ],
   "source": [
    "# Show count by label\n",
    "CD_data.groupBy('y').count().show()"
   ]
  },
  {
   "cell_type": "code",
   "execution_count": 5,
   "metadata": {},
   "outputs": [],
   "source": [
    "# Defining a RFormula \n",
    "\n",
    "formula = RFormula(formula=\"y~.\",\n",
    "    featuresCol=\"features\",\n",
    "    labelCol=\"label\")\n",
    "\n",
    "# Applying (fit) this formula to CD_data to retrieve and map CD_data's variables to the formula.\n",
    "# Save the fitted formula\n",
    "\n",
    "fitted_df = formula.fit(CD_data)\n",
    "\n",
    "# Applying (transform) the fitted R formula to transform \n",
    "# the features and label variables in CD_data\n",
    "\n",
    "CD_prepared = fitted_df.transform(CD_data)"
   ]
  },
  {
   "cell_type": "code",
   "execution_count": 6,
   "metadata": {},
   "outputs": [
    {
     "data": {
      "text/plain": [
       "Row(age=56, job='housemaid', marital='married', education='basic.4y', default='no', housing='no', loan='no', contact='telephone', month='may', day_of_week='mon', campaign=1, pdays=999, previous=0, poutcome='nonexistent', emp_var_rate=1.1, cons_price_idx=93.994, cons_conf_idx=-36.4, euribor3m=4.857, nr_employed=5191.0, y='no', features=SparseVector(52, {0: 56.0, 9: 1.0, 12: 1.0, 19: 1.0, 22: 1.0, 25: 1.0, 26: 1.0, 29: 1.0, 39: 1.0, 42: 1.0, 43: 999.0, 45: 1.0, 47: 1.1, 48: 93.994, 49: -36.4, 50: 4.857, 51: 5191.0}), label=0.0)"
      ]
     },
     "execution_count": 6,
     "metadata": {},
     "output_type": "execute_result"
    }
   ],
   "source": [
    "# Viewing the first isntance in the prepared DataFrame using above created formula\n",
    "CD_prepared.collect()[0]"
   ]
  },
  {
   "cell_type": "code",
   "execution_count": 7,
   "metadata": {},
   "outputs": [
    {
     "data": {
      "text/plain": [
       "{'binary': [{'idx': 1, 'name': 'job_admin.'},\n",
       "  {'idx': 2, 'name': 'job_blue-collar'},\n",
       "  {'idx': 3, 'name': 'job_technician'},\n",
       "  {'idx': 4, 'name': 'job_services'},\n",
       "  {'idx': 5, 'name': 'job_management'},\n",
       "  {'idx': 6, 'name': 'job_retired'},\n",
       "  {'idx': 7, 'name': 'job_self-employed'},\n",
       "  {'idx': 8, 'name': 'job_entrepreneur'},\n",
       "  {'idx': 9, 'name': 'job_housemaid'},\n",
       "  {'idx': 10, 'name': 'job_unemployed'},\n",
       "  {'idx': 11, 'name': 'job_student'},\n",
       "  {'idx': 12, 'name': 'marital_married'},\n",
       "  {'idx': 13, 'name': 'marital_single'},\n",
       "  {'idx': 14, 'name': 'marital_divorced'},\n",
       "  {'idx': 15, 'name': 'education_university.degree'},\n",
       "  {'idx': 16, 'name': 'education_high.school'},\n",
       "  {'idx': 17, 'name': 'education_basic.9y'},\n",
       "  {'idx': 18, 'name': 'education_professional.course'},\n",
       "  {'idx': 19, 'name': 'education_basic.4y'},\n",
       "  {'idx': 20, 'name': 'education_basic.6y'},\n",
       "  {'idx': 21, 'name': 'education_unknown'},\n",
       "  {'idx': 22, 'name': 'default_no'},\n",
       "  {'idx': 23, 'name': 'default_unknown'},\n",
       "  {'idx': 24, 'name': 'housing_yes'},\n",
       "  {'idx': 25, 'name': 'housing_no'},\n",
       "  {'idx': 26, 'name': 'loan_no'},\n",
       "  {'idx': 27, 'name': 'loan_yes'},\n",
       "  {'idx': 28, 'name': 'contact_cellular'},\n",
       "  {'idx': 29, 'name': 'month_may'},\n",
       "  {'idx': 30, 'name': 'month_jul'},\n",
       "  {'idx': 31, 'name': 'month_aug'},\n",
       "  {'idx': 32, 'name': 'month_jun'},\n",
       "  {'idx': 33, 'name': 'month_nov'},\n",
       "  {'idx': 34, 'name': 'month_apr'},\n",
       "  {'idx': 35, 'name': 'month_oct'},\n",
       "  {'idx': 36, 'name': 'month_sep'},\n",
       "  {'idx': 37, 'name': 'month_mar'},\n",
       "  {'idx': 38, 'name': 'day_of_week_thu'},\n",
       "  {'idx': 39, 'name': 'day_of_week_mon'},\n",
       "  {'idx': 40, 'name': 'day_of_week_wed'},\n",
       "  {'idx': 41, 'name': 'day_of_week_tue'},\n",
       "  {'idx': 45, 'name': 'poutcome_nonexistent'},\n",
       "  {'idx': 46, 'name': 'poutcome_failure'}],\n",
       " 'numeric': [{'idx': 0, 'name': 'age'},\n",
       "  {'idx': 42, 'name': 'campaign'},\n",
       "  {'idx': 43, 'name': 'pdays'},\n",
       "  {'idx': 44, 'name': 'previous'},\n",
       "  {'idx': 47, 'name': 'emp_var_rate'},\n",
       "  {'idx': 48, 'name': 'cons_price_idx'},\n",
       "  {'idx': 49, 'name': 'cons_conf_idx'},\n",
       "  {'idx': 50, 'name': 'euribor3m'},\n",
       "  {'idx': 51, 'name': 'nr_employed'}]}"
      ]
     },
     "execution_count": 7,
     "metadata": {},
     "output_type": "execute_result"
    }
   ],
   "source": [
    "# meta data of features in the prepared data for classification\n",
    "CD_prepared.schema[\"features\"].metadata[\"ml_attr\"][\"attrs\"]"
   ]
  },
  {
   "cell_type": "code",
   "execution_count": 8,
   "metadata": {},
   "outputs": [],
   "source": [
    "# Spliting the prepared DataFrame into train and test sets.\n",
    "CD_train, CD_test = CD_prepared.randomSplit([0.7,0.3], seed = 100)"
   ]
  },
  {
   "cell_type": "markdown",
   "metadata": {},
   "source": [
    "# Part 2\n",
    "## (I)Building Logistic Regression Model and evaluating"
   ]
  },
  {
   "cell_type": "code",
   "execution_count": 9,
   "metadata": {},
   "outputs": [
    {
     "name": "stdout",
     "output_type": "stream",
     "text": [
      "-RECORD 0------------------------------\n",
      " age            | 18                   \n",
      " job            | student              \n",
      " marital        | single               \n",
      " education      | basic.4y             \n",
      " default        | no                   \n",
      " housing        | no                   \n",
      " loan           | no                   \n",
      " contact        | cellular             \n",
      " month          | apr                  \n",
      " day_of_week    | thu                  \n",
      " campaign       | 1                    \n",
      " pdays          | 999                  \n",
      " previous       | 0                    \n",
      " poutcome       | nonexistent          \n",
      " emp_var_rate   | -1.8                 \n",
      " cons_price_idx | 93.075               \n",
      " cons_conf_idx  | -47.1                \n",
      " euribor3m      | 1.365                \n",
      " nr_employed    | 5099.1               \n",
      " y              | no                   \n",
      " features       | (52,[0,11,13,19,2... \n",
      " label          | 0.0                  \n",
      " rawPrediction  | [1.56817077926674... \n",
      " probability    | [0.82752268201285... \n",
      " prediction     | 0.0                  \n",
      "-RECORD 1------------------------------\n",
      " age            | 18                   \n",
      " job            | student              \n",
      " marital        | single               \n",
      " education      | basic.4y             \n",
      " default        | no                   \n",
      " housing        | yes                  \n",
      " loan           | no                   \n",
      " contact        | cellular             \n",
      " month          | jun                  \n",
      " day_of_week    | tue                  \n",
      " campaign       | 1                    \n",
      " pdays          | 999                  \n",
      " previous       | 0                    \n",
      " poutcome       | nonexistent          \n",
      " emp_var_rate   | -1.7                 \n",
      " cons_price_idx | 94.055               \n",
      " cons_conf_idx  | -39.8                \n",
      " euribor3m      | 0.737                \n",
      " nr_employed    | 4991.6               \n",
      " y              | no                   \n",
      " features       | (52,[0,11,13,19,2... \n",
      " label          | 0.0                  \n",
      " rawPrediction  | [0.05326250215120... \n",
      " probability    | [0.51331247851224... \n",
      " prediction     | 0.0                  \n",
      "-RECORD 2------------------------------\n",
      " age            | 18                   \n",
      " job            | student              \n",
      " marital        | single               \n",
      " education      | high.school          \n",
      " default        | no                   \n",
      " housing        | no                   \n",
      " loan           | no                   \n",
      " contact        | cellular             \n",
      " month          | nov                  \n",
      " day_of_week    | fri                  \n",
      " campaign       | 2                    \n",
      " pdays          | 7                    \n",
      " previous       | 2                    \n",
      " poutcome       | failure              \n",
      " emp_var_rate   | -3.4                 \n",
      " cons_price_idx | 92.649               \n",
      " cons_conf_idx  | -30.1                \n",
      " euribor3m      | 0.714                \n",
      " nr_employed    | 5017.5               \n",
      " y              | yes                  \n",
      " features       | (52,[0,11,13,16,2... \n",
      " label          | 1.0                  \n",
      " rawPrediction  | [-0.2424839997694... \n",
      " probability    | [0.43967429913738... \n",
      " prediction     | 1.0                  \n",
      "-RECORD 3------------------------------\n",
      " age            | 18                   \n",
      " job            | student              \n",
      " marital        | single               \n",
      " education      | high.school          \n",
      " default        | no                   \n",
      " housing        | yes                  \n",
      " loan           | yes                  \n",
      " contact        | cellular             \n",
      " month          | mar                  \n",
      " day_of_week    | tue                  \n",
      " campaign       | 1                    \n",
      " pdays          | 999                  \n",
      " previous       | 0                    \n",
      " poutcome       | nonexistent          \n",
      " emp_var_rate   | -1.8                 \n",
      " cons_price_idx | 92.843               \n",
      " cons_conf_idx  | -50.0                \n",
      " euribor3m      | 1.687                \n",
      " nr_employed    | 5099.1               \n",
      " y              | no                   \n",
      " features       | (52,[0,11,13,16,2... \n",
      " label          | 0.0                  \n",
      " rawPrediction  | [0.03021857488488... \n",
      " probability    | [0.50755406888907... \n",
      " prediction     | 0.0                  \n",
      "-RECORD 4------------------------------\n",
      " age            | 18                   \n",
      " job            | student              \n",
      " marital        | single               \n",
      " education      | unknown              \n",
      " default        | no                   \n",
      " housing        | yes                  \n",
      " loan           | no                   \n",
      " contact        | cellular             \n",
      " month          | aug                  \n",
      " day_of_week    | wed                  \n",
      " campaign       | 2                    \n",
      " pdays          | 6                    \n",
      " previous       | 1                    \n",
      " poutcome       | success              \n",
      " emp_var_rate   | -1.7                 \n",
      " cons_price_idx | 94.027               \n",
      " cons_conf_idx  | -38.3                \n",
      " euribor3m      | 0.9                  \n",
      " nr_employed    | 4991.6               \n",
      " y              | yes                  \n",
      " features       | (52,[0,11,13,21,2... \n",
      " label          | 1.0                  \n",
      " rawPrediction  | [-1.6269782874337... \n",
      " probability    | [0.16424472614907... \n",
      " prediction     | 1.0                  \n",
      "only showing top 5 rows\n",
      "\n",
      "+-----+----------+--------------------+\n",
      "|label|prediction|         probability|\n",
      "+-----+----------+--------------------+\n",
      "|  0.0|       0.0|[0.82752268201285...|\n",
      "|  0.0|       0.0|[0.51331247851224...|\n",
      "|  1.0|       1.0|[0.43967429913738...|\n",
      "|  0.0|       0.0|[0.50755406888907...|\n",
      "|  1.0|       1.0|[0.16424472614907...|\n",
      "|  1.0|       1.0|[0.40273457593581...|\n",
      "|  0.0|       0.0|[0.83286624254099...|\n",
      "|  0.0|       0.0|[0.65791913009848...|\n",
      "|  1.0|       0.0|[0.81510482745319...|\n",
      "|  1.0|       0.0|[0.74488061802552...|\n",
      "|  1.0|       0.0|[0.82561810428777...|\n",
      "|  0.0|       0.0|[0.97486747386529...|\n",
      "|  1.0|       1.0|[0.26864117604705...|\n",
      "|  1.0|       1.0|[0.21076170570502...|\n",
      "|  1.0|       0.0|[0.79271152242091...|\n",
      "|  0.0|       0.0|[0.93608155804223...|\n",
      "|  1.0|       0.0|[0.55434662751764...|\n",
      "|  0.0|       0.0|[0.79652445260266...|\n",
      "|  0.0|       0.0|[0.88880449272609...|\n",
      "|  0.0|       0.0|[0.58794375658617...|\n",
      "|  0.0|       0.0|[0.85644278969093...|\n",
      "|  0.0|       0.0|[0.90607697553581...|\n",
      "|  0.0|       0.0|[0.94379933923218...|\n",
      "|  0.0|       0.0|[0.92764677730476...|\n",
      "|  0.0|       0.0|[0.81992925860925...|\n",
      "+-----+----------+--------------------+\n",
      "only showing top 25 rows\n",
      "\n",
      "-RECORD 0------------------------------\n",
      " age            | 18                   \n",
      " job            | student              \n",
      " marital        | single               \n",
      " education      | unknown              \n",
      " default        | no                   \n",
      " housing        | no                   \n",
      " loan           | no                   \n",
      " contact        | cellular             \n",
      " month          | sep                  \n",
      " day_of_week    | thu                  \n",
      " campaign       | 1                    \n",
      " pdays          | 3                    \n",
      " previous       | 1                    \n",
      " poutcome       | success              \n",
      " emp_var_rate   | -3.4                 \n",
      " cons_price_idx | 92.379               \n",
      " cons_conf_idx  | -29.8                \n",
      " euribor3m      | 0.809                \n",
      " nr_employed    | 5017.5               \n",
      " y              | yes                  \n",
      " features       | (52,[0,11,13,21,2... \n",
      " label          | 1.0                  \n",
      " rawPrediction  | [-0.9228997524118... \n",
      " probability    | [0.28436741837390... \n",
      " prediction     | 1.0                  \n",
      "-RECORD 1------------------------------\n",
      " age            | 19                   \n",
      " job            | student              \n",
      " marital        | single               \n",
      " education      | basic.4y             \n",
      " default        | no                   \n",
      " housing        | yes                  \n",
      " loan           | no                   \n",
      " contact        | cellular             \n",
      " month          | sep                  \n",
      " day_of_week    | wed                  \n",
      " campaign       | 2                    \n",
      " pdays          | 6                    \n",
      " previous       | 3                    \n",
      " poutcome       | success              \n",
      " emp_var_rate   | -1.1                 \n",
      " cons_price_idx | 94.199               \n",
      " cons_conf_idx  | -37.5                \n",
      " euribor3m      | 0.876                \n",
      " nr_employed    | 4963.6               \n",
      " y              | yes                  \n",
      " features       | (52,[0,11,13,19,2... \n",
      " label          | 1.0                  \n",
      " rawPrediction  | [-1.0925022015191... \n",
      " probability    | [0.25114739043467... \n",
      " prediction     | 1.0                  \n",
      "-RECORD 2------------------------------\n",
      " age            | 19                   \n",
      " job            | student              \n",
      " marital        | single               \n",
      " education      | basic.9y             \n",
      " default        | no                   \n",
      " housing        | no                   \n",
      " loan           | no                   \n",
      " contact        | cellular             \n",
      " month          | apr                  \n",
      " day_of_week    | tue                  \n",
      " campaign       | 3                    \n",
      " pdays          | 999                  \n",
      " previous       | 0                    \n",
      " poutcome       | nonexistent          \n",
      " emp_var_rate   | -1.8                 \n",
      " cons_price_idx | 93.075               \n",
      " cons_conf_idx  | -47.1                \n",
      " euribor3m      | 1.453                \n",
      " nr_employed    | 5099.1               \n",
      " y              | no                   \n",
      " features       | (52,[0,11,13,17,2... \n",
      " label          | 0.0                  \n",
      " rawPrediction  | [1.29596997282351... \n",
      " probability    | [0.78515595479898... \n",
      " prediction     | 0.0                  \n",
      "-RECORD 3------------------------------\n",
      " age            | 19                   \n",
      " job            | student              \n",
      " marital        | single               \n",
      " education      | basic.9y             \n",
      " default        | no                   \n",
      " housing        | yes                  \n",
      " loan           | no                   \n",
      " contact        | telephone            \n",
      " month          | aug                  \n",
      " day_of_week    | mon                  \n",
      " campaign       | 2                    \n",
      " pdays          | 999                  \n",
      " previous       | 0                    \n",
      " poutcome       | nonexistent          \n",
      " emp_var_rate   | -2.9                 \n",
      " cons_price_idx | 92.201               \n",
      " cons_conf_idx  | -31.4                \n",
      " euribor3m      | 0.884                \n",
      " nr_employed    | 5076.2               \n",
      " y              | no                   \n",
      " features       | (52,[0,11,13,17,2... \n",
      " label          | 0.0                  \n",
      " rawPrediction  | [1.45313206935272... \n",
      " probability    | [0.81047999454064... \n",
      " prediction     | 0.0                  \n",
      "-RECORD 4------------------------------\n",
      " age            | 19                   \n",
      " job            | student              \n",
      " marital        | single               \n",
      " education      | unknown              \n",
      " default        | no                   \n",
      " housing        | yes                  \n",
      " loan           | yes                  \n",
      " contact        | cellular             \n",
      " month          | apr                  \n",
      " day_of_week    | tue                  \n",
      " campaign       | 3                    \n",
      " pdays          | 999                  \n",
      " previous       | 0                    \n",
      " poutcome       | nonexistent          \n",
      " emp_var_rate   | -1.8                 \n",
      " cons_price_idx | 93.075               \n",
      " cons_conf_idx  | -47.1                \n",
      " euribor3m      | 1.405                \n",
      " nr_employed    | 5099.1               \n",
      " y              | yes                  \n",
      " features       | (52,[0,11,13,21,2... \n",
      " label          | 1.0                  \n",
      " rawPrediction  | [1.35277386869826... \n",
      " probability    | [0.79458275180045... \n",
      " prediction     | 0.0                  \n",
      "only showing top 5 rows\n",
      "\n"
     ]
    },
    {
     "name": "stdout",
     "output_type": "stream",
     "text": [
      "+-----+----------+--------------------+\n",
      "|label|prediction|         probability|\n",
      "+-----+----------+--------------------+\n",
      "|  1.0|       1.0|[0.28436741837390...|\n",
      "|  1.0|       1.0|[0.25114739043467...|\n",
      "|  0.0|       0.0|[0.78515595479898...|\n",
      "|  0.0|       0.0|[0.81047999454064...|\n",
      "|  1.0|       0.0|[0.79458275180045...|\n",
      "|  0.0|       0.0|[0.56318836265077...|\n",
      "|  1.0|       0.0|[0.69070611292030...|\n",
      "|  0.0|       0.0|[0.51937554513234...|\n",
      "|  1.0|       1.0|[0.33955851456096...|\n",
      "|  1.0|       1.0|[0.30683247543202...|\n",
      "|  0.0|       0.0|[0.63739551102419...|\n",
      "|  0.0|       0.0|[0.69132916248523...|\n",
      "|  0.0|       0.0|[0.90018309354080...|\n",
      "|  0.0|       0.0|[0.80022978176089...|\n",
      "|  1.0|       0.0|[0.57050757749420...|\n",
      "|  0.0|       0.0|[0.57781842917337...|\n",
      "|  1.0|       0.0|[0.79945437063600...|\n",
      "|  0.0|       0.0|[0.95455879400744...|\n",
      "|  0.0|       0.0|[0.75492296375383...|\n",
      "|  0.0|       0.0|[0.97363045057638...|\n",
      "|  0.0|       0.0|[0.91702477609269...|\n",
      "|  1.0|       0.0|[0.61677249676387...|\n",
      "|  0.0|       0.0|[0.85580918503622...|\n",
      "|  1.0|       0.0|[0.69476900448150...|\n",
      "|  1.0|       1.0|[0.16843854821882...|\n",
      "+-----+----------+--------------------+\n",
      "only showing top 25 rows\n",
      "\n"
     ]
    }
   ],
   "source": [
    "# setting a baseline Logistic Regression classifier\n",
    "lr = LogisticRegression(labelCol='label',featuresCol='features')\n",
    "\n",
    "# Train the model using the train set\n",
    "CD_LogisticRegFit = lr.fit(CD_train)\n",
    "\n",
    "# Take a look at model's predictions for a few train instances\n",
    "CD_LogisticRegFit.summary.predictions.show(5,vertical=True)\n",
    "CD_LogisticRegFit.summary.predictions.select('label','prediction','probability').show(25)\n",
    "\n",
    "#Apply the trained model on test set \n",
    "CD_LR_test_result = CD_LogisticRegFit.transform(CD_test)\n",
    "\n",
    "# LogisticRegression has another function - evaluate to train a model \n",
    "CD_LR_evaluated = CD_LogisticRegFit.evaluate(CD_test)\n",
    "\n",
    "# Check on the predictions for a few testing instances\n",
    "CD_LR_evaluated.predictions.show(5,vertical=True)\n",
    "CD_LR_evaluated.predictions.select('label','prediction','probability').show(25)\n"
   ]
  },
  {
   "cell_type": "code",
   "execution_count": 10,
   "metadata": {},
   "outputs": [],
   "source": [
    "#custom function to generate classification metrics\n",
    "from pyspark.mllib.evaluation import MulticlassMetrics\n",
    "\n",
    "def CD_classifier_evaluator (predictions):\n",
    "    predictionAndLabels =predictions.select(\"prediction\", \"label\").rdd\n",
    "    metrics = MulticlassMetrics(predictionAndLabels)\n",
    "    print(\"Precision(no):\", round(metrics.precision(0.0),3))\n",
    "    print(\"Recall(no):\", round(metrics.recall(0.0),3))\n",
    "    print(\"F-Score(no):\", round(metrics.fMeasure(0.0, beta=1.0),3))\n",
    "    print(\"Precision(yes):\", round(metrics.precision(1.0),3))\n",
    "    print(\"Recall(yes):\", round(metrics.recall(1.0),3))\n",
    "    print(\"F-Score(yes):\", round(metrics.fMeasure(1.0, beta=1.0),3))\n",
    "    print(\"Accuracy:\", round(metrics.accuracy,3))   \n",
    "    "
   ]
  },
  {
   "cell_type": "code",
   "execution_count": 11,
   "metadata": {},
   "outputs": [
    {
     "name": "stdout",
     "output_type": "stream",
     "text": [
      "Precision(no): 0.913\n",
      "Recall(no): 0.985\n",
      "F-Score(no): 0.947\n",
      "Precision(yes): 0.645\n",
      "Recall(yes): 0.222\n",
      "F-Score(yes): 0.33\n",
      "Accuracy: 0.903\n"
     ]
    }
   ],
   "source": [
    "CD_classifier_evaluator(CD_LR_test_result)"
   ]
  },
  {
   "cell_type": "markdown",
   "metadata": {},
   "source": [
    "## (II) Building and evaluating a baseline decision tree model "
   ]
  },
  {
   "cell_type": "code",
   "execution_count": 12,
   "metadata": {},
   "outputs": [
    {
     "data": {
      "text/plain": [
       "SparseVector(52, {0: 0.0115, 1: 0.0054, 9: 0.004, 10: 0.0047, 16: 0.0044, 20: 0.0035, 24: 0.0041, 25: 0.0069, 26: 0.0098, 28: 0.0109, 34: 0.0259, 35: 0.0187, 37: 0.0529, 39: 0.008, 42: 0.0067, 43: 0.1623, 46: 0.0122, 48: 0.0117, 49: 0.0056, 50: 0.0325, 51: 0.5984})"
      ]
     },
     "execution_count": 12,
     "metadata": {},
     "output_type": "execute_result"
    }
   ],
   "source": [
    "# setting a baseline decision tree classifier\n",
    "dt = DecisionTreeClassifier(labelCol='label',featuresCol='features')\n",
    "\n",
    "# Training a baseline decision tree model using the train set\n",
    "\n",
    "CD_DT_fit = dt.fit(CD_train)\n",
    "\n",
    "# Reviewing feature importance based on information gain\n",
    "CD_DT_fit.featureImportances"
   ]
  },
  {
   "cell_type": "code",
   "execution_count": 13,
   "metadata": {},
   "outputs": [
    {
     "name": "stdout",
     "output_type": "stream",
     "text": [
      "Precision(no): 0.911\n",
      "Recall(no): 0.985\n",
      "F-Score(no): 0.947\n",
      "Precision(yes): 0.626\n",
      "Recall(yes): 0.209\n",
      "F-Score(yes): 0.314\n",
      "Accuracy: 0.901\n"
     ]
    }
   ],
   "source": [
    "# Applying the baseline model and generate classification metrics\n",
    "CD_DT_test_results = CD_DT_fit.transform(CD_test)\n",
    "\n",
    "# generating classification metrics\n",
    "\n",
    "CD_classifier_evaluator(CD_DT_test_results)"
   ]
  },
  {
   "cell_type": "markdown",
   "metadata": {},
   "source": [
    "## (III) Building and evaluating a baseline Random Forest model"
   ]
  },
  {
   "cell_type": "code",
   "execution_count": 14,
   "metadata": {},
   "outputs": [
    {
     "data": {
      "text/plain": [
       "SparseVector(52, {0: 0.0322, 1: 0.0044, 2: 0.0019, 3: 0.001, 4: 0.0019, 5: 0.0017, 6: 0.004, 7: 0.0009, 8: 0.0007, 9: 0.0001, 10: 0.0008, 11: 0.0006, 12: 0.0027, 13: 0.0032, 14: 0.0008, 15: 0.0031, 16: 0.0017, 17: 0.0015, 18: 0.0015, 19: 0.0011, 20: 0.0009, 21: 0.0004, 22: 0.003, 23: 0.0071, 24: 0.0015, 25: 0.0002, 26: 0.001, 27: 0.0026, 28: 0.022, 29: 0.002, 30: 0.0003, 31: 0.0013, 32: 0.0045, 33: 0.0011, 34: 0.0045, 35: 0.0128, 36: 0.0064, 37: 0.0391, 38: 0.0052, 39: 0.0013, 40: 0.0015, 41: 0.003, 42: 0.0097, 43: 0.2244, 44: 0.0279, 45: 0.0242, 46: 0.0302, 47: 0.0473, 48: 0.0612, 49: 0.0277, 50: 0.1839, 51: 0.1757})"
      ]
     },
     "execution_count": 14,
     "metadata": {},
     "output_type": "execute_result"
    }
   ],
   "source": [
    "# setting a baseline Random Forest classifier\n",
    "rfc = RandomForestClassifier(labelCol='label',featuresCol='features')\n",
    "\n",
    "# Training a baseline Random Forest model using the train set\n",
    "CD_RFC_fit = rfc.fit(CD_train)\n",
    "\n",
    "# Reviewing feature importance based on information gain\n",
    "CD_RFC_fit.featureImportances"
   ]
  },
  {
   "cell_type": "code",
   "execution_count": 15,
   "metadata": {},
   "outputs": [
    {
     "name": "stdout",
     "output_type": "stream",
     "text": [
      "Precision(no): 0.907\n",
      "Recall(no): 0.99\n",
      "F-Score(no): 0.946\n",
      "Precision(yes): 0.654\n",
      "Recall(yes): 0.159\n",
      "F-Score(yes): 0.256\n",
      "Accuracy: 0.9\n"
     ]
    }
   ],
   "source": [
    "# Applying the baseline model to the test set and generate classification metrics\n",
    "\n",
    "CD_RFC_test_results = CD_RFC_fit.transform(CD_test)\n",
    "\n",
    "# generating classification metrics\n",
    "\n",
    "CD_classifier_evaluator(CD_RFC_test_results)"
   ]
  },
  {
   "cell_type": "markdown",
   "metadata": {},
   "source": [
    "## (IV) Building and evaluating a baseline Gradient Boosting Tree model"
   ]
  },
  {
   "cell_type": "code",
   "execution_count": 16,
   "metadata": {},
   "outputs": [
    {
     "data": {
      "text/plain": [
       "SparseVector(52, {0: 0.1412, 1: 0.0179, 2: 0.0182, 3: 0.0098, 4: 0.0157, 5: 0.0136, 6: 0.0047, 7: 0.0121, 8: 0.001, 9: 0.0027, 10: 0.0254, 11: 0.0, 12: 0.0132, 13: 0.0106, 14: 0.0046, 15: 0.0076, 16: 0.0048, 17: 0.0094, 18: 0.0006, 19: 0.0042, 20: 0.0002, 21: 0.0081, 22: 0.0137, 24: 0.0178, 25: 0.0085, 26: 0.0157, 27: 0.0191, 28: 0.0223, 30: 0.0051, 31: 0.0072, 32: 0.0063, 33: 0.0102, 34: 0.0101, 35: 0.0141, 36: 0.0053, 37: 0.01, 38: 0.0141, 39: 0.0037, 40: 0.0127, 41: 0.0066, 42: 0.062, 43: 0.0567, 44: 0.0239, 45: 0.0045, 46: 0.0247, 47: 0.0546, 48: 0.0423, 49: 0.0283, 50: 0.1316, 51: 0.0437})"
      ]
     },
     "execution_count": 16,
     "metadata": {},
     "output_type": "execute_result"
    }
   ],
   "source": [
    "# setting a baseline Gradient Boosting Tree (GBT) classifier\n",
    "gbt = GBTClassifier(labelCol='label',featuresCol='features')\n",
    "\n",
    "# Training a baseline GBT model using the train set\n",
    "CD_GBT_fit = gbt.fit(CD_train)\n",
    "\n",
    "# We can review the importance of features, typically determined based on information gain\n",
    "CD_GBT_fit.featureImportances"
   ]
  },
  {
   "cell_type": "code",
   "execution_count": 17,
   "metadata": {},
   "outputs": [
    {
     "name": "stdout",
     "output_type": "stream",
     "text": [
      "Precision(no): 0.918\n",
      "Recall(no): 0.977\n",
      "F-Score(no): 0.946\n",
      "Precision(yes): 0.593\n",
      "Recall(yes): 0.278\n",
      "F-Score(yes): 0.379\n",
      "Accuracy: 0.901\n"
     ]
    }
   ],
   "source": [
    "# Applying the baseline model to the test set and generating classification metrics\n",
    "\n",
    "CD_GBT_test_results = CD_GBT_fit.transform(CD_test)\n",
    "CD_classifier_evaluator(CD_GBT_test_results)"
   ]
  },
  {
   "cell_type": "markdown",
   "metadata": {},
   "source": [
    "## (V)Building and evaluating a baseline Support Vector Machine model"
   ]
  },
  {
   "cell_type": "code",
   "execution_count": 18,
   "metadata": {},
   "outputs": [],
   "source": [
    "# setting a baseline LinearSVC classifier\n",
    "svm = LinearSVC(labelCol='label',featuresCol='features')\n",
    "\n",
    "# Training a baseline SVM model using the train set\n",
    "CD_SVM_Fit = svm.fit(CD_train)"
   ]
  },
  {
   "cell_type": "code",
   "execution_count": 19,
   "metadata": {},
   "outputs": [
    {
     "name": "stdout",
     "output_type": "stream",
     "text": [
      "Precision(no): 0.895\n",
      "Recall(no): 0.993\n",
      "F-Score(no): 0.941\n",
      "Precision(yes): 0.406\n",
      "Recall(yes): 0.041\n",
      "F-Score(yes): 0.074\n",
      "Accuracy: 0.89\n"
     ]
    }
   ],
   "source": [
    "# Applying the baseline model to the test set and generating classification metrics\n",
    "CD_SVM_test_results = CD_SVM_Fit.transform(CD_test)\n",
    "CD_classifier_evaluator(CD_SVM_test_results)"
   ]
  },
  {
   "cell_type": "markdown",
   "metadata": {},
   "source": [
    "## (VI)Building and evaluating a baseline Naive Bayes model"
   ]
  },
  {
   "cell_type": "code",
   "execution_count": 20,
   "metadata": {},
   "outputs": [],
   "source": [
    "# Define an RFormula for a Naive Bayes model by removing 'emp_var_rate' and 'cons_conf_idx' that contain negative values.\n",
    "\n",
    "formulaNB = RFormula(formula=\"y~.-emp_var_rate-cons_conf_idx\",\n",
    "    featuresCol=\"features\",\n",
    "    labelCol=\"label\")\n",
    "\n",
    "CD_NB_fit = formulaNB.fit(CD_data)\n",
    "\n",
    "# Transform CD_data to be in format compatible with pyspark\n",
    "CD_NB_df_prepared = CD_NB_fit.transform(CD_data)"
   ]
  },
  {
   "cell_type": "code",
   "execution_count": 21,
   "metadata": {},
   "outputs": [
    {
     "data": {
      "text/plain": [
       "{'binary': [{'idx': 1, 'name': 'job_admin.'},\n",
       "  {'idx': 2, 'name': 'job_blue-collar'},\n",
       "  {'idx': 3, 'name': 'job_technician'},\n",
       "  {'idx': 4, 'name': 'job_services'},\n",
       "  {'idx': 5, 'name': 'job_management'},\n",
       "  {'idx': 6, 'name': 'job_retired'},\n",
       "  {'idx': 7, 'name': 'job_self-employed'},\n",
       "  {'idx': 8, 'name': 'job_entrepreneur'},\n",
       "  {'idx': 9, 'name': 'job_housemaid'},\n",
       "  {'idx': 10, 'name': 'job_unemployed'},\n",
       "  {'idx': 11, 'name': 'job_student'},\n",
       "  {'idx': 12, 'name': 'marital_married'},\n",
       "  {'idx': 13, 'name': 'marital_single'},\n",
       "  {'idx': 14, 'name': 'marital_divorced'},\n",
       "  {'idx': 15, 'name': 'education_university.degree'},\n",
       "  {'idx': 16, 'name': 'education_high.school'},\n",
       "  {'idx': 17, 'name': 'education_basic.9y'},\n",
       "  {'idx': 18, 'name': 'education_professional.course'},\n",
       "  {'idx': 19, 'name': 'education_basic.4y'},\n",
       "  {'idx': 20, 'name': 'education_basic.6y'},\n",
       "  {'idx': 21, 'name': 'education_unknown'},\n",
       "  {'idx': 22, 'name': 'default_no'},\n",
       "  {'idx': 23, 'name': 'default_unknown'},\n",
       "  {'idx': 24, 'name': 'housing_yes'},\n",
       "  {'idx': 25, 'name': 'housing_no'},\n",
       "  {'idx': 26, 'name': 'loan_no'},\n",
       "  {'idx': 27, 'name': 'loan_yes'},\n",
       "  {'idx': 28, 'name': 'contact_cellular'},\n",
       "  {'idx': 29, 'name': 'month_may'},\n",
       "  {'idx': 30, 'name': 'month_jul'},\n",
       "  {'idx': 31, 'name': 'month_aug'},\n",
       "  {'idx': 32, 'name': 'month_jun'},\n",
       "  {'idx': 33, 'name': 'month_nov'},\n",
       "  {'idx': 34, 'name': 'month_apr'},\n",
       "  {'idx': 35, 'name': 'month_oct'},\n",
       "  {'idx': 36, 'name': 'month_sep'},\n",
       "  {'idx': 37, 'name': 'month_mar'},\n",
       "  {'idx': 38, 'name': 'day_of_week_thu'},\n",
       "  {'idx': 39, 'name': 'day_of_week_mon'},\n",
       "  {'idx': 40, 'name': 'day_of_week_wed'},\n",
       "  {'idx': 41, 'name': 'day_of_week_tue'},\n",
       "  {'idx': 45, 'name': 'poutcome_nonexistent'},\n",
       "  {'idx': 46, 'name': 'poutcome_failure'}],\n",
       " 'numeric': [{'idx': 0, 'name': 'age'},\n",
       "  {'idx': 42, 'name': 'campaign'},\n",
       "  {'idx': 43, 'name': 'pdays'},\n",
       "  {'idx': 44, 'name': 'previous'},\n",
       "  {'idx': 47, 'name': 'cons_price_idx'},\n",
       "  {'idx': 48, 'name': 'euribor3m'},\n",
       "  {'idx': 49, 'name': 'nr_employed'}]}"
      ]
     },
     "execution_count": 21,
     "metadata": {},
     "output_type": "execute_result"
    }
   ],
   "source": [
    "CD_NB_df_prepared.collect()[0]\n",
    "# View the meta data of features in the prepared data for classification\n",
    "CD_NB_df_prepared.schema[\"features\"].metadata[\"ml_attr\"][\"attrs\"]"
   ]
  },
  {
   "cell_type": "code",
   "execution_count": 22,
   "metadata": {},
   "outputs": [],
   "source": [
    "# Split the reformatted data into train and test sets\n",
    "CD_NB_train, CD_NB_test = CD_NB_df_prepared.randomSplit([0.7,0.3], seed = 100)\n",
    "\n",
    "# set an nb classifier\n",
    "nb = NaiveBayes(labelCol='label',featuresCol='features')\n",
    "# Train an nb model\n",
    "CD_NB_fit = nb.fit(CD_NB_train)"
   ]
  },
  {
   "cell_type": "code",
   "execution_count": 23,
   "metadata": {},
   "outputs": [
    {
     "name": "stdout",
     "output_type": "stream",
     "text": [
      "Precision(no): 0.91\n",
      "Recall(no): 0.984\n",
      "F-Score(no): 0.946\n",
      "Precision(yes): 0.6\n",
      "Recall(yes): 0.197\n",
      "F-Score(yes): 0.296\n",
      "Accuracy: 0.899\n"
     ]
    }
   ],
   "source": [
    "# Apply the baseline model to the test set and generate classification metrics\n",
    "CD_NB_test_results = CD_NB_fit.transform(CD_NB_test)\n",
    "CD_classifier_evaluator(CD_NB_test_results)"
   ]
  },
  {
   "cell_type": "markdown",
   "metadata": {},
   "source": [
    "## (VII) Building and Evaluating a simple Neural Network model"
   ]
  },
  {
   "cell_type": "code",
   "execution_count": 24,
   "metadata": {
    "scrolled": true
   },
   "outputs": [
    {
     "name": "stdout",
     "output_type": "stream",
     "text": [
      "Precision(no): 0.892\n",
      "Recall(no): 1.0\n",
      "F-Score(no): 0.943\n",
      "Precision(yes): 0.0\n",
      "Recall(yes): 0.0\n",
      "F-Score(yes): 0.0\n",
      "Accuracy: 0.892\n"
     ]
    }
   ],
   "source": [
    "\n",
    "# setting a baseline fully connected neural network classifier with one hidden layer\n",
    "mlp = MultilayerPerceptronClassifier(labelCol='label',featuresCol='features', layers =[52,27,2])\n",
    "\n",
    "# Train the model using the train set\n",
    "CD_MLP_fit = mlp.fit(CD_train)\n",
    "\n",
    "# Apply the trained model to the test set to generate predictions\n",
    "CD_MLP_test_results = CD_MLP_fit.transform(CD_test)\n",
    "\n",
    "# Use the customized function to generate testing metrics of the trained mlp model\n",
    "CD_classifier_evaluator(CD_MLP_test_results)"
   ]
  },
  {
   "cell_type": "code",
   "execution_count": 25,
   "metadata": {},
   "outputs": [],
   "source": [
    "# Defining a function classifierEvaluatorLine\n",
    "\n",
    "def CD_classifier_evaluator_line (model,predictions):\n",
    "    predictionAndLabels =predictions.select(\"prediction\", \"label\").rdd\n",
    "    metrics = MulticlassMetrics(predictionAndLabels)\n",
    "    print(model,\"PRC-n:\", round(metrics.precision(0.0),3)\\\n",
    "          ,\"TPR-n:\", round(metrics.recall(0.0),3)\\\n",
    "          ,\"F1-n:\", round(metrics.fMeasure(0.0, beta=1.0),3)\\\n",
    "          ,\"PRC-y:\", round(metrics.precision(1.0),3)\\\n",
    "          ,\"TPR-y:\", round(metrics.recall(1.0),3)\\\n",
    "          ,\"F1-y:\", round(metrics.fMeasure(1.0, beta=1.0),3)\\\n",
    "          ,\"ACC:\", round(metrics.accuracy,3))"
   ]
  },
  {
   "cell_type": "code",
   "execution_count": 26,
   "metadata": {},
   "outputs": [
    {
     "name": "stdout",
     "output_type": "stream",
     "text": [
      "LR      PRC-n: 0.913 TPR-n: 0.985 F1-n: 0.947 PRC-y: 0.645 TPR-y: 0.222 F1-y: 0.33 ACC: 0.903\n",
      "DT      PRC-n: 0.911 TPR-n: 0.985 F1-n: 0.947 PRC-y: 0.626 TPR-y: 0.209 F1-y: 0.314 ACC: 0.901\n",
      "RF      PRC-n: 0.907 TPR-n: 0.99 F1-n: 0.946 PRC-y: 0.654 TPR-y: 0.159 F1-y: 0.256 ACC: 0.9\n",
      "GBT    PRC-n: 0.918 TPR-n: 0.977 F1-n: 0.946 PRC-y: 0.593 TPR-y: 0.278 F1-y: 0.379 ACC: 0.901\n",
      "SVM     PRC-n: 0.895 TPR-n: 0.993 F1-n: 0.941 PRC-y: 0.406 TPR-y: 0.041 F1-y: 0.074 ACC: 0.89\n",
      "NB-rfNB PRC-n: 0.91 TPR-n: 0.984 F1-n: 0.946 PRC-y: 0.6 TPR-y: 0.197 F1-y: 0.296 ACC: 0.899\n",
      "MLP     PRC-n: 0.892 TPR-n: 1.0 F1-n: 0.943 PRC-y: 0.0 TPR-y: 0.0 F1-y: 0.0 ACC: 0.892\n"
     ]
    }
   ],
   "source": [
    "# Call CD_classifierEvaluatorLine with each of the saved testing results as input\n",
    "CD_classifier_evaluator_line(\"LR     \", CD_LR_test_result)\n",
    "\n",
    "CD_classifier_evaluator_line(\"DT     \", CD_DT_test_results)\n",
    "\n",
    "CD_classifier_evaluator_line(\"RF     \", CD_RFC_test_results)\n",
    "\n",
    "CD_classifier_evaluator_line(\"GBT   \", CD_GBT_test_results)\n",
    "\n",
    "CD_classifier_evaluator_line(\"SVM    \", CD_SVM_test_results)\n",
    "\n",
    "CD_classifier_evaluator_line(\"NB-rfNB\", CD_NB_test_results)\n",
    "\n",
    "CD_classifier_evaluator_line(\"MLP    \", CD_MLP_test_results)\n"
   ]
  },
  {
   "cell_type": "markdown",
   "metadata": {},
   "source": [
    "# Part 3: Multiclass Classification Model Building and Evaluating"
   ]
  },
  {
   "cell_type": "code",
   "execution_count": 27,
   "metadata": {},
   "outputs": [],
   "source": [
    "# importing iris dataset\n",
    "iris_df = spark.read.csv(\"iris_data.csv\", header = True, inferSchema=\"true\")"
   ]
  },
  {
   "cell_type": "code",
   "execution_count": 28,
   "metadata": {},
   "outputs": [
    {
     "name": "stdout",
     "output_type": "stream",
     "text": [
      "+---------------+-----+\n",
      "|          plant|count|\n",
      "+---------------+-----+\n",
      "| Iris-virginica|   50|\n",
      "|    Iris-setosa|   50|\n",
      "|Iris-versicolor|   50|\n",
      "+---------------+-----+\n",
      "\n"
     ]
    }
   ],
   "source": [
    "# examine count of instances by class\n",
    "iris_df.groupBy('plant').count().show()"
   ]
  },
  {
   "cell_type": "markdown",
   "metadata": {},
   "source": [
    "## Prepare classification data using RFormula"
   ]
  },
  {
   "cell_type": "code",
   "execution_count": 29,
   "metadata": {},
   "outputs": [],
   "source": [
    "# Defining an RFormula \n",
    "\n",
    "formula_iris = RFormula(formula=\"plant~.\",\n",
    "    featuresCol=\"features\",\n",
    "    labelCol=\"label\")\n",
    "\n",
    "# Applying (using fit) this formula to iris_df to retrieve and map iris_df's variables to the formula.\n",
    "# Saving the fitted formula\n",
    "\n",
    "fitted_rf_iris = formula_iris.fit(iris_df)\n",
    "\n",
    "# Applying (transform) the fitted R formula to transform \n",
    "# the features and label variables in iris_df\n",
    "\n",
    "iris_prepared = fitted_rf_iris.transform(iris_df)"
   ]
  },
  {
   "cell_type": "code",
   "execution_count": 30,
   "metadata": {},
   "outputs": [
    {
     "data": {
      "text/plain": [
       "Row(sepLength=5.1, sepWidth=3.5, petLength=1.4, petWidth=0.2, plant='Iris-setosa', features=DenseVector([5.1, 3.5, 1.4, 0.2]), label=0.0)"
      ]
     },
     "execution_count": 30,
     "metadata": {},
     "output_type": "execute_result"
    }
   ],
   "source": [
    "# View the first record the prepared data\n",
    "iris_prepared.collect()[0]"
   ]
  },
  {
   "cell_type": "code",
   "execution_count": 31,
   "metadata": {},
   "outputs": [
    {
     "data": {
      "text/plain": [
       "{'numeric': [{'idx': 0, 'name': 'sepLength'},\n",
       "  {'idx': 1, 'name': 'sepWidth'},\n",
       "  {'idx': 2, 'name': 'petLength'},\n",
       "  {'idx': 3, 'name': 'petWidth'}]}"
      ]
     },
     "execution_count": 31,
     "metadata": {},
     "output_type": "execute_result"
    }
   ],
   "source": [
    "# View the meta data of features in the prepared data for classification\n",
    "iris_prepared.schema[\"features\"].metadata[\"ml_attr\"][\"attrs\"]"
   ]
  },
  {
   "cell_type": "code",
   "execution_count": 32,
   "metadata": {},
   "outputs": [],
   "source": [
    "# Split the prepared data into train and test DataFrames\n",
    "iris_train, iris_test = iris_prepared.randomSplit([0.7,0.3], seed=100)"
   ]
  },
  {
   "cell_type": "code",
   "execution_count": 33,
   "metadata": {},
   "outputs": [],
   "source": [
    "from pyspark.mllib.evaluation import MulticlassMetrics\n",
    "\n",
    "def iris_classifier_evaluator (predictions):\n",
    "    predictionAndLabels =predictions.select(\"prediction\", \"label\").rdd\n",
    "    metrics = MulticlassMetrics(predictionAndLabels)\n",
    "    print(\"Precision(class1):\", round(metrics.precision(0.0),3))\n",
    "    print(\"Recall(class1):\", round(metrics.recall(0.0),3))\n",
    "    print(\"F-Score(class1):\", round(metrics.fMeasure(0.0, beta=1.0),3))\n",
    "    print(\"Precision(class2):\", round(metrics.precision(1.0),3))\n",
    "    print(\"Recall(class2):\", round(metrics.recall(1.0),3))\n",
    "    print(\"F-Score(class2):\", round(metrics.fMeasure(1.0, beta=1.0),3))\n",
    "    print(\"Precision(class3):\", round(metrics.precision(2.0),3))\n",
    "    print(\"Recall(class3):\", round(metrics.recall(2.0),3))\n",
    "    print(\"F-Score(class3):\", round(metrics.fMeasure(2.0, beta=1.0),3))\n",
    "    print(\"Accuracy:\", round(metrics.accuracy,3))   \n",
    "    "
   ]
  },
  {
   "cell_type": "code",
   "execution_count": 34,
   "metadata": {},
   "outputs": [
    {
     "name": "stdout",
     "output_type": "stream",
     "text": [
      "Precision(class1): 1.0\n",
      "Recall(class1): 0.947\n",
      "F-Score(class1): 0.973\n",
      "Precision(class2): 0.929\n",
      "Recall(class2): 1.0\n",
      "F-Score(class2): 0.963\n",
      "Precision(class3): 1.0\n",
      "Recall(class3): 1.0\n",
      "F-Score(class3): 1.0\n",
      "Accuracy: 0.979\n"
     ]
    }
   ],
   "source": [
    "# Applying the baseline Logistic method \n",
    "lr = LogisticRegression(labelCol='label',featuresCol='features')\n",
    "iris_LR_fit = lr.fit(iris_train)\n",
    "\n",
    "# Applying the trained model to the test set to generate predictions\n",
    "iris_LR_test_results = iris_LR_fit.transform(iris_test)\n",
    "\n",
    "# Use the customized function to generate testing metrics of the trained model\n",
    "iris_classifier_evaluator(iris_LR_test_results)"
   ]
  },
  {
   "cell_type": "code",
   "execution_count": 35,
   "metadata": {},
   "outputs": [
    {
     "name": "stdout",
     "output_type": "stream",
     "text": [
      "Precision(class1): 1.0\n",
      "Recall(class1): 1.0\n",
      "F-Score(class1): 1.0\n",
      "Precision(class2): 1.0\n",
      "Recall(class2): 0.923\n",
      "F-Score(class2): 0.96\n",
      "Precision(class3): 0.938\n",
      "Recall(class3): 1.0\n",
      "F-Score(class3): 0.968\n",
      "Accuracy: 0.979\n"
     ]
    }
   ],
   "source": [
    "## setting a baseline fully connected neural network classifier with one hidden layer. \n",
    "mlp = MultilayerPerceptronClassifier(labelCol='label',featuresCol='features',layers=[4,2,3])\n",
    "\n",
    "# Train the model using the train set\n",
    "iris_MLP_fit = mlp.fit(iris_train)\n",
    "\n",
    "# Apply the trained model to the test set to generate predictions\n",
    "iris_MLP_test_results = iris_MLP_fit.transform(iris_test)\n",
    "\n",
    "# Use the customized function to generate testing metrics of the trained mlp model\n",
    "iris_classifier_evaluator(iris_MLP_test_results)"
   ]
  },
  {
   "cell_type": "code",
   "execution_count": 36,
   "metadata": {},
   "outputs": [
    {
     "name": "stdout",
     "output_type": "stream",
     "text": [
      "Precision(class1): 1.0\n",
      "Recall(class1): 1.0\n",
      "F-Score(class1): 1.0\n",
      "Precision(class2): 0.929\n",
      "Recall(class2): 1.0\n",
      "F-Score(class2): 0.963\n",
      "Precision(class3): 1.0\n",
      "Recall(class3): 0.933\n",
      "F-Score(class3): 0.966\n",
      "Accuracy: 0.979\n"
     ]
    }
   ],
   "source": [
    "# set a baseline decision tree classifier\n",
    "dt = DecisionTreeClassifier(labelCol='label',featuresCol='features')\n",
    "\n",
    "# Train a baseline decision tree model using the train set\n",
    "iris_DT_fit = dt.fit(iris_train)\n",
    "\n",
    "# We can review the importance of features, typically determined based on information gain\n",
    "iris_DT_fit.featureImportances\n",
    "\n",
    "# Apply the baseline model and generate classification metrics\n",
    "\n",
    "iris_DT_test_results = iris_DT_fit.transform(iris_test)\n",
    "\n",
    "# Call the CD_classifier_evaluator function to generate classification metrics\n",
    "\n",
    "iris_classifier_evaluator(iris_DT_test_results)"
   ]
  },
  {
   "cell_type": "code",
   "execution_count": 37,
   "metadata": {},
   "outputs": [
    {
     "data": {
      "text/plain": [
       "SparseVector(4, {0: 0.1317, 1: 0.0466, 2: 0.3698, 3: 0.4519})"
      ]
     },
     "execution_count": 37,
     "metadata": {},
     "output_type": "execute_result"
    }
   ],
   "source": [
    "# setting a baseline Random Forest classifier\n",
    "rfc = RandomForestClassifier(labelCol='label',featuresCol='features')\n",
    "\n",
    "# Training a baseline Random Forest model using the train set\n",
    "\n",
    "iris_RFC_fit = rfc.fit(iris_train)\n",
    "\n",
    "# We can review the importance of features, typically determined based on information gain\n",
    "iris_RFC_fit.featureImportances"
   ]
  },
  {
   "cell_type": "code",
   "execution_count": 38,
   "metadata": {},
   "outputs": [
    {
     "name": "stdout",
     "output_type": "stream",
     "text": [
      "Precision(class1): 1.0\n",
      "Recall(class1): 1.0\n",
      "F-Score(class1): 1.0\n",
      "Precision(class2): 0.867\n",
      "Recall(class2): 1.0\n",
      "F-Score(class2): 0.929\n",
      "Precision(class3): 1.0\n",
      "Recall(class3): 0.867\n",
      "F-Score(class3): 0.929\n",
      "Accuracy: 0.957\n"
     ]
    }
   ],
   "source": [
    "# Applying the baseline model to the test set\n",
    "iris_RFC_test_results = iris_RFC_fit.transform(iris_test)\n",
    "\n",
    "# generating classification metrics\n",
    "\n",
    "iris_classifier_evaluator(iris_RFC_test_results)"
   ]
  },
  {
   "cell_type": "code",
   "execution_count": 39,
   "metadata": {},
   "outputs": [
    {
     "name": "stdout",
     "output_type": "stream",
     "text": [
      "Precision(class1): 1.0\n",
      "Recall(class1): 1.0\n",
      "F-Score(class1): 1.0\n",
      "Precision(class2): 0.812\n",
      "Recall(class2): 1.0\n",
      "F-Score(class2): 0.897\n",
      "Precision(class3): 1.0\n",
      "Recall(class3): 0.8\n",
      "F-Score(class3): 0.889\n",
      "Accuracy: 0.936\n"
     ]
    }
   ],
   "source": [
    "# None of the variable in iris data set are negative so using previously defined\n",
    "# iris_train and iris_test\n",
    "\n",
    "# setting an nb classifier\n",
    "nb = NaiveBayes(labelCol='label',featuresCol='features')\n",
    "# Training an nb model\n",
    "iris_NB_fit = nb.fit(iris_train)\n",
    "\n",
    "# Applying the baseline model to the test set and generate classification metrics\n",
    "iris_NB_test_results = iris_NB_fit.transform(iris_test)\n",
    "iris_classifier_evaluator(iris_NB_test_results)"
   ]
  },
  {
   "cell_type": "code",
   "execution_count": 40,
   "metadata": {},
   "outputs": [],
   "source": [
    "# Define a function classifierEvaluatorLine\n",
    "\n",
    "def iris_classifier_evaluator_line (model,predictions):\n",
    "    predictionAndLabels =predictions.select(\"prediction\", \"label\").rdd\n",
    "    metrics = MulticlassMetrics(predictionAndLabels)\n",
    "    print(model,\"PRC-n:\", round(metrics.precision(0.0),3)\\\n",
    "          ,\"TPR-n:\", round(metrics.recall(0.0),3)\\\n",
    "          ,\"F1-n:\", round(metrics.fMeasure(0.0, beta=1.0),3)\\\n",
    "          ,\"PRC-y:\", round(metrics.precision(1.0),3)\\\n",
    "          ,\"TPR-y:\", round(metrics.recall(1.0),3)\\\n",
    "          ,\"F1-y:\", round(metrics.fMeasure(1.0, beta=1.0),3)\\\n",
    "          ,\"ACC:\", round(metrics.accuracy,3))"
   ]
  },
  {
   "cell_type": "code",
   "execution_count": 41,
   "metadata": {},
   "outputs": [
    {
     "name": "stdout",
     "output_type": "stream",
     "text": [
      "LR      PRC-n: 1.0 TPR-n: 0.947 F1-n: 0.973 PRC-y: 0.929 TPR-y: 1.0 F1-y: 0.963 ACC: 0.979\n",
      "DT      PRC-n: 1.0 TPR-n: 1.0 F1-n: 1.0 PRC-y: 0.929 TPR-y: 1.0 F1-y: 0.963 ACC: 0.979\n",
      "RF      PRC-n: 1.0 TPR-n: 1.0 F1-n: 1.0 PRC-y: 0.867 TPR-y: 1.0 F1-y: 0.929 ACC: 0.957\n",
      "NB-rfNB PRC-n: 1.0 TPR-n: 1.0 F1-n: 1.0 PRC-y: 0.812 TPR-y: 1.0 F1-y: 0.897 ACC: 0.936\n",
      "MLP     PRC-n: 1.0 TPR-n: 1.0 F1-n: 1.0 PRC-y: 1.0 TPR-y: 0.923 F1-y: 0.96 ACC: 0.979\n"
     ]
    }
   ],
   "source": [
    "iris_classifier_evaluator_line(\"LR     \", iris_LR_test_results)\n",
    "\n",
    "iris_classifier_evaluator_line(\"DT     \", iris_DT_test_results)\n",
    "\n",
    "iris_classifier_evaluator_line(\"RF     \", iris_RFC_test_results)\n",
    "\n",
    "\n",
    "iris_classifier_evaluator_line(\"NB-rfNB\", iris_NB_test_results)\n",
    "\n",
    "iris_classifier_evaluator_line(\"MLP    \", iris_MLP_test_results)"
   ]
  }
 ],
 "metadata": {
  "kernelspec": {
   "display_name": "Python 3",
   "language": "python",
   "name": "python3"
  },
  "language_info": {
   "codemirror_mode": {
    "name": "ipython",
    "version": 3
   },
   "file_extension": ".py",
   "mimetype": "text/x-python",
   "name": "python",
   "nbconvert_exporter": "python",
   "pygments_lexer": "ipython3",
   "version": "3.6.4"
  }
 },
 "nbformat": 4,
 "nbformat_minor": 2
}
