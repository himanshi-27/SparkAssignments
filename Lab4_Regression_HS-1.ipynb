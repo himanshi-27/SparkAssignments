{
 "cells": [
  {
   "cell_type": "markdown",
   "metadata": {},
   "source": [
    "# Himanshi Sharma\n",
    "# Issues\n",
    "1. I was not able to split the dataset using RFormula in train-test and it was showing error 'label' not found. Despite using the labelCol = 'label' in RF formula I was getting this error. I reviewed my code and found out that I was incorrectly spelling NA_Sales to NA_sales which caused in error. \n",
    "2. I had a hard time figuring out how to find correlation of all numeric variables, I used google to get to my code for computing the correlation."
   ]
  },
  {
   "cell_type": "code",
   "execution_count": 1,
   "metadata": {},
   "outputs": [],
   "source": [
    "# Data exploration\n",
    "from pyspark.sql.functions import col, log, expr, corr\n",
    "from pyspark.ml.stat import Correlation\n",
    "# Data preparation\n",
    "from pyspark.ml.feature import RFormula, StringIndexer, VectorAssembler, VectorIndexer, OneHotEncoder\n",
    "from pyspark.ml import Pipeline\n",
    "# Model building\n",
    "from pyspark.ml.regression import LinearRegression, GeneralizedLinearRegression, DecisionTreeRegressor, RandomForestRegressor, GBTRegressor\n",
    "# Model evaluation\n",
    "from pyspark.ml.evaluation import RegressionEvaluator\n",
    "from pyspark.mllib.evaluation import RegressionMetrics\n",
    "# Parameter tuning\n",
    "from pyspark.ml.tuning import ParamGridBuilder, CrossValidator, TrainValidationSplit\n",
    "# Feature engineering\n",
    "from pyspark.ml.feature import Normalizer, ChiSqSelector"
   ]
  },
  {
   "cell_type": "markdown",
   "metadata": {},
   "source": [
    "# Data Preparation"
   ]
  },
  {
   "cell_type": "code",
   "execution_count": 2,
   "metadata": {},
   "outputs": [
    {
     "name": "stdout",
     "output_type": "stream",
     "text": [
      "root\n",
      " |-- Name: string (nullable = true)\n",
      " |-- Platform: string (nullable = true)\n",
      " |-- Genre: string (nullable = true)\n",
      " |-- Rating: string (nullable = true)\n",
      " |-- Critic_Score: integer (nullable = true)\n",
      " |-- Critic_Count: integer (nullable = true)\n",
      " |-- User_Score: integer (nullable = true)\n",
      " |-- User_Count: integer (nullable = true)\n",
      " |-- NA_Sales: double (nullable = true)\n",
      "\n",
      "+------------------+--------+------------+------+------------+------------+----------+----------+--------+\n",
      "|              Name|Platform|       Genre|Rating|Critic_Score|Critic_Count|User_Score|User_Count|NA_Sales|\n",
      "+------------------+--------+------------+------+------------+------------+----------+----------+--------+\n",
      "| Final Fantasy VII|      PS|Role-Playing|     T|          92|          20|        91|      1282|    3.01|\n",
      "|   Final Fantasy X|     PS2|Role-Playing|     T|          92|          53|        86|      1056|    2.91|\n",
      "|        The Sims 3|      PC|  Simulation|     T|          86|          75|        75|       886|    0.99|\n",
      "|Final Fantasy VIII|      PS|Role-Playing|     T|          90|          24|        85|       644|    2.28|\n",
      "|          Tekken 3|      PS|    Fighting|     T|          96|          15|        90|       367|    3.27|\n",
      "+------------------+--------+------------+------+------------+------------+----------+----------+--------+\n",
      "only showing top 5 rows\n",
      "\n"
     ]
    }
   ],
   "source": [
    "# Loading the data\n",
    "videoGameSales = spark.read.csv(\"NA_sales_filtered_reformatted.csv\", header = True, inferSchema=\"true\")\n",
    "# printing the schema\n",
    "videoGameSales.printSchema()\n",
    "videoGameSales.show(5)"
   ]
  },
  {
   "cell_type": "markdown",
   "metadata": {},
   "source": [
    "# Data Exploration"
   ]
  },
  {
   "cell_type": "code",
   "execution_count": 3,
   "metadata": {},
   "outputs": [
    {
     "name": "stdout",
     "output_type": "stream",
     "text": [
      "+-------+-------------------+------------------+-----------------+-----------------+------------------+\n",
      "|summary|           NA_Sales|      Critic_Score|     Critic_Count|       User_Score|        User_Count|\n",
      "+-------+-------------------+------------------+-----------------+-----------------+------------------+\n",
      "|  count|               6345|              6345|             6345|             6345|              6345|\n",
      "|   mean| 0.3542301024428651|  69.8193853427896|28.96674546887313|70.76548463356974|152.73096926713947|\n",
      "| stddev|0.49440400387695516|13.945811492959752|19.09859425551718|14.43843215185036| 545.9624829141369|\n",
      "|    min|               0.01|                13|                3|                5|                 4|\n",
      "|    25%|               0.08|                61|               14|               64|                10|\n",
      "|    50%|               0.17|                72|               25|               74|                24|\n",
      "|    75%|               0.41|                80|               40|               81|                77|\n",
      "|    max|               3.49|                98|              113|               95|             10665|\n",
      "+-------+-------------------+------------------+-----------------+-----------------+------------------+\n",
      "\n"
     ]
    }
   ],
   "source": [
    "# summary statistics\n",
    "videoGameSales.select(\"NA_Sales\",\"Critic_Score\",\"Critic_Count\",\"User_Score\", \"User_Count\").summary().show()"
   ]
  },
  {
   "cell_type": "code",
   "execution_count": 35,
   "metadata": {
    "scrolled": true
   },
   "outputs": [
    {
     "name": "stdout",
     "output_type": "stream",
     "text": [
      "DenseMatrix([[1.        , 0.35297362, 0.34350463, 0.14535079, 0.26839294],\n",
      "             [0.35297362, 1.        , 0.39039934, 0.58454759, 0.24368767],\n",
      "             [0.34350463, 0.39039934, 1.        , 0.1927621 , 0.34805984],\n",
      "             [0.14535079, 0.58454759, 0.1927621 , 1.        , 0.01239754],\n",
      "             [0.26839294, 0.24368767, 0.34805984, 0.01239754, 1.        ]])\n"
     ]
    }
   ],
   "source": [
    "## correlation\n",
    "correlation = {\"NA_Sales-Critic_Score\":videoGameSales.corr(\"NA_Sales\",\"Critic_Score\"),\n",
    "\"NA_Sales-Critic_Count\":videoGameSales.corr(\"NA_Sales\",\"Critic_Count\"),\n",
    "\"NA_Sales-User_Score\":videoGameSales.corr(\"NA_Sales\",\"User_Score\"),\n",
    "\"NA_Sales-User_Count\":videoGameSales.corr(\"NA_Sales\", \"User_Count\"),\n",
    "\"Critic_Score-Critic_Count\":videoGameSales.corr(\"Critic_Score\", \"Critic_Count\"),\n",
    "\"Critic_Score-User_Score\":videoGameSales.corr(\"Critic_Score\", \"User_Score\"),\n",
    "\"Critic_Score-User_Count\":videoGameSales.corr(\"Critic_Score\", \"User_Count\"),\n",
    "\"Critic_Count-User_Score\":videoGameSales.corr(\"Critic_Count\", \"User_Score\"),\n",
    "\"Critic_Count-User_Count\":videoGameSales.corr(\"Critic_Count\", \"User_Count\"),\n",
    "\"User_Score-User_Count\":videoGameSales.corr(\"User_Score\", \"User_Count\")}\n",
    "correlation\n",
    "\n",
    "###\n",
    "numeric_col = VectorAssembler(inputCols=[\"NA_Sales\",\"Critic_Score\", \"Critic_Count\",\"User_Score\",\"User_Count\"], outputCol=\"features\").transform(videoGameSales)\n",
    "print(Correlation.corr(numeric_col, \"features\",method='pearson').collect()[0][0])"
   ]
  },
  {
   "cell_type": "code",
   "execution_count": 7,
   "metadata": {},
   "outputs": [
    {
     "name": "stdout",
     "output_type": "stream",
     "text": [
      "+--------------------+-----+\n",
      "|                Name|count|\n",
      "+--------------------+-----+\n",
      "|Legacy of Kain: S...|    1|\n",
      "|                RIFT|    1|\n",
      "|  The Last Airbender|    2|\n",
      "|Men of War: Assau...|    1|\n",
      "|Back to the Futur...|    2|\n",
      "|       Kakuto Chojin|    1|\n",
      "|          Dungeons 2|    1|\n",
      "|All-Star Baseball...|    3|\n",
      "|Sherlock Holmes: ...|    1|\n",
      "|ESPN X Games Skat...|    1|\n",
      "|RalliSport Challe...|    1|\n",
      "|The Elder Scrolls...|    2|\n",
      "|Call of Duty Blac...|    1|\n",
      "|Godzilla: Save th...|    2|\n",
      "|     Mister Mosquito|    1|\n",
      "|      Birds of Steel|    2|\n",
      "|      Arcana Heart 3|    1|\n",
      "|Battlestar Galactica|    1|\n",
      "|Samurai Shodown A...|    1|\n",
      "|Stoked: Big Air E...|    1|\n",
      "+--------------------+-----+\n",
      "only showing top 20 rows\n",
      "\n",
      "+--------+-----+\n",
      "|Platform|count|\n",
      "+--------+-----+\n",
      "|      PC|  304|\n",
      "|     PS3|  749|\n",
      "|      PS|  150|\n",
      "|     PS2| 1135|\n",
      "|     3DS|  141|\n",
      "|    WiiU|   81|\n",
      "|     PS4|  210|\n",
      "|     PSP|  379|\n",
      "|    XOne|  158|\n",
      "|    X360|  848|\n",
      "|     GBA|  238|\n",
      "|     Wii|  475|\n",
      "|      GC|  353|\n",
      "|     PSV|   89|\n",
      "|      XB|  578|\n",
      "|      DS|  457|\n",
      "+--------+-----+\n",
      "\n",
      "+------------+-----+\n",
      "|       Genre|count|\n",
      "+------------+-----+\n",
      "|   Adventure|  215|\n",
      "|      Sports|  921|\n",
      "|      Racing|  537|\n",
      "|Role-Playing|  643|\n",
      "|     Shooter|  798|\n",
      "|        Misc|  379|\n",
      "|    Platform|  386|\n",
      "|      Puzzle|  113|\n",
      "|    Fighting|  360|\n",
      "|      Action| 1549|\n",
      "|    Strategy|  193|\n",
      "|  Simulation|  251|\n",
      "+------------+-----+\n",
      "\n",
      "+-------+-----+\n",
      "| Rating|count|\n",
      "+-------+-----+\n",
      "|      E| 1968|\n",
      "|      T| 2182|\n",
      "|      M| 1295|\n",
      "|missing|   23|\n",
      "|   E10+|  877|\n",
      "+-------+-----+\n",
      "\n",
      "+--------------------+--------------------+\n",
      "|                Name|       avg(NA_Sales)|\n",
      "+--------------------+--------------------+\n",
      "|Legacy of Kain: S...|                0.58|\n",
      "|                RIFT|                0.44|\n",
      "|  The Last Airbender|               0.125|\n",
      "|Men of War: Assau...|                0.01|\n",
      "|Back to the Futur...|0.060000000000000005|\n",
      "|       Kakuto Chojin|                0.04|\n",
      "|          Dungeons 2|                0.01|\n",
      "|All-Star Baseball...|                0.23|\n",
      "|Sherlock Holmes: ...|                0.06|\n",
      "|ESPN X Games Skat...|                0.18|\n",
      "|RalliSport Challe...|                0.18|\n",
      "|The Elder Scrolls...|               1.855|\n",
      "|Call of Duty Blac...|                0.71|\n",
      "|Godzilla: Save th...|               0.165|\n",
      "|     Mister Mosquito|                0.05|\n",
      "|      Birds of Steel| 0.10500000000000001|\n",
      "|      Arcana Heart 3|                0.04|\n",
      "|Battlestar Galactica|                0.08|\n",
      "|Samurai Shodown A...|                0.05|\n",
      "|Stoked: Big Air E...|                0.02|\n",
      "+--------------------+--------------------+\n",
      "only showing top 20 rows\n",
      "\n",
      "+--------+-------------------+\n",
      "|Platform|      avg(NA_Sales)|\n",
      "+--------+-------------------+\n",
      "|      PC|0.20072368421052625|\n",
      "|     PS3|0.41088117489986625|\n",
      "|      PS|             0.5442|\n",
      "|     PS2| 0.3753039647577082|\n",
      "|     3DS| 0.2504255319148936|\n",
      "|    WiiU|0.37888888888888883|\n",
      "|     PS4| 0.3833333333333337|\n",
      "|     PSP|0.21939313984168862|\n",
      "|    XOne| 0.4812025316455698|\n",
      "|    X360| 0.4684316037735848|\n",
      "|     GBA|0.33609243697478985|\n",
      "|     Wii| 0.3989473684210528|\n",
      "|      GC| 0.2848725212464592|\n",
      "|     PSV|0.11280898876404487|\n",
      "|      XB|0.24920415224913509|\n",
      "|      DS|  0.315492341356674|\n",
      "+--------+-------------------+\n",
      "\n",
      "+------------+-------------------+\n",
      "|       Genre|      avg(NA_Sales)|\n",
      "+------------+-------------------+\n",
      "|   Adventure| 0.1789302325581395|\n",
      "|      Sports|0.40513572204125853|\n",
      "|      Racing| 0.3402979515828683|\n",
      "|Role-Playing| 0.3239346811819596|\n",
      "|     Shooter| 0.3962656641604004|\n",
      "|        Misc| 0.4383377308707125|\n",
      "|    Platform|0.36844559585492215|\n",
      "|      Puzzle|0.29929203539823007|\n",
      "|    Fighting| 0.3501388888888888|\n",
      "|      Action|0.34451904454486704|\n",
      "|    Strategy|0.17663212435233155|\n",
      "|  Simulation|0.36960159362549805|\n",
      "+------------+-------------------+\n",
      "\n",
      "+-------+-------------------+\n",
      "| Rating|      avg(NA_Sales)|\n",
      "+-------+-------------------+\n",
      "|      E| 0.3906605691056895|\n",
      "|      T| 0.3127314390467439|\n",
      "|      M| 0.4048185328185294|\n",
      "|missing|0.11260869565217382|\n",
      "|   E10+| 0.3073660205245142|\n",
      "+-------+-------------------+\n",
      "\n"
     ]
    }
   ],
   "source": [
    "# category count and avg NA_sales by category\n",
    "videoGameSales.groupBy(\"Name\").count().show()\n",
    "videoGameSales.groupBy(\"Platform\").count().show()\n",
    "videoGameSales.groupBy(\"Genre\").count().show()\n",
    "videoGameSales.groupBy(\"Rating\").count().show()\n",
    "videoGameSales.groupBy(\"Name\").mean(\"NA_Sales\").show()\n",
    "videoGameSales.groupBy(\"Platform\").mean(\"NA_Sales\").show()\n",
    "videoGameSales.groupBy(\"Genre\").mean(\"NA_Sales\").show()\n",
    "videoGameSales.groupBy(\"Rating\").mean(\"NA_Sales\").show()"
   ]
  },
  {
   "cell_type": "code",
   "execution_count": 8,
   "metadata": {},
   "outputs": [
    {
     "name": "stdout",
     "output_type": "stream",
     "text": [
      "+--------+------------+------+------------+------------+----------+----------+--------+\n",
      "|Platform|       Genre|Rating|Critic_Score|Critic_Count|User_Score|User_Count|NA_Sales|\n",
      "+--------+------------+------+------------+------------+----------+----------+--------+\n",
      "|      PS|Role-Playing|     T|          92|          20|        91|      1282|    3.01|\n",
      "|     PS2|Role-Playing|     T|          92|          53|        86|      1056|    2.91|\n",
      "|      PC|  Simulation|     T|          86|          75|        75|       886|    0.99|\n",
      "|      PS|Role-Playing|     T|          90|          24|        85|       644|    2.28|\n",
      "|      PS|    Fighting|     T|          96|          15|        90|       367|    3.27|\n",
      "+--------+------------+------+------------+------------+----------+----------+--------+\n",
      "only showing top 5 rows\n",
      "\n"
     ]
    }
   ],
   "source": [
    "## dropping the 'Name' field\n",
    "videoGameSales_1 = videoGameSales.drop(\"Name\")\n",
    "videoGameSales_1.show(5)"
   ]
  },
  {
   "cell_type": "markdown",
   "metadata": {},
   "source": [
    "# Model Building and Evaluation"
   ]
  },
  {
   "cell_type": "markdown",
   "metadata": {},
   "source": [
    "## RFormula"
   ]
  },
  {
   "cell_type": "code",
   "execution_count": 9,
   "metadata": {},
   "outputs": [],
   "source": [
    "## RFormula\n",
    "formula = RFormula(\n",
    "    formula=\"NA_Sales ~ .\",\n",
    "    featuresCol=\"features\",\n",
    "    labelCol=\"label\")"
   ]
  },
  {
   "cell_type": "code",
   "execution_count": 10,
   "metadata": {},
   "outputs": [
    {
     "name": "stdout",
     "output_type": "stream",
     "text": [
      "+--------+------------+------+------------+------------+----------+----------+--------+---------------------------------------------------------------+-----+\n",
      "|Platform|Genre       |Rating|Critic_Score|Critic_Count|User_Score|User_Count|NA_Sales|features                                                       |label|\n",
      "+--------+------------+------+------------+------------+----------+----------+--------+---------------------------------------------------------------+-----+\n",
      "|PS      |Role-Playing|T     |92          |20          |91        |1282      |3.01    |(34,[12,18,26,30,31,32,33],[1.0,1.0,1.0,92.0,20.0,91.0,1282.0])|3.01 |\n",
      "|PS2     |Role-Playing|T     |92          |53          |86        |1056      |2.91    |(34,[0,18,26,30,31,32,33],[1.0,1.0,1.0,92.0,53.0,86.0,1056.0]) |2.91 |\n",
      "|PC      |Simulation  |T     |86          |75          |75        |886       |0.99    |(34,[8,23,26,30,31,32,33],[1.0,1.0,1.0,86.0,75.0,75.0,886.0])  |0.99 |\n",
      "|PS      |Role-Playing|T     |90          |24          |85        |644       |2.28    |(34,[12,18,26,30,31,32,33],[1.0,1.0,1.0,90.0,24.0,85.0,644.0]) |2.28 |\n",
      "|PS      |Fighting    |T     |96          |15          |90        |367       |3.27    |(34,[12,22,26,30,31,32,33],[1.0,1.0,1.0,96.0,15.0,90.0,367.0]) |3.27 |\n",
      "+--------+------------+------+------------+------------+----------+----------+--------+---------------------------------------------------------------+-----+\n",
      "only showing top 5 rows\n",
      "\n"
     ]
    }
   ],
   "source": [
    "videoGameSales_fitted = formula.fit(videoGameSales_1).transform(videoGameSales_1)\n",
    "videoGameSales_fitted.show(5, False)"
   ]
  },
  {
   "cell_type": "code",
   "execution_count": 11,
   "metadata": {},
   "outputs": [],
   "source": [
    "train, test = videoGameSales_fitted.select('label','features').randomSplit([0.7,0.3], seed=2018)"
   ]
  },
  {
   "cell_type": "code",
   "execution_count": 12,
   "metadata": {},
   "outputs": [
    {
     "data": {
      "text/plain": [
       "{'binary': [{'idx': 0, 'name': 'Platform_PS2'},\n",
       "  {'idx': 1, 'name': 'Platform_X360'},\n",
       "  {'idx': 2, 'name': 'Platform_PS3'},\n",
       "  {'idx': 3, 'name': 'Platform_XB'},\n",
       "  {'idx': 4, 'name': 'Platform_Wii'},\n",
       "  {'idx': 5, 'name': 'Platform_DS'},\n",
       "  {'idx': 6, 'name': 'Platform_PSP'},\n",
       "  {'idx': 7, 'name': 'Platform_GC'},\n",
       "  {'idx': 8, 'name': 'Platform_PC'},\n",
       "  {'idx': 9, 'name': 'Platform_GBA'},\n",
       "  {'idx': 10, 'name': 'Platform_PS4'},\n",
       "  {'idx': 11, 'name': 'Platform_XOne'},\n",
       "  {'idx': 12, 'name': 'Platform_PS'},\n",
       "  {'idx': 13, 'name': 'Platform_3DS'},\n",
       "  {'idx': 14, 'name': 'Platform_PSV'},\n",
       "  {'idx': 15, 'name': 'Genre_Action'},\n",
       "  {'idx': 16, 'name': 'Genre_Sports'},\n",
       "  {'idx': 17, 'name': 'Genre_Shooter'},\n",
       "  {'idx': 18, 'name': 'Genre_Role-Playing'},\n",
       "  {'idx': 19, 'name': 'Genre_Racing'},\n",
       "  {'idx': 20, 'name': 'Genre_Platform'},\n",
       "  {'idx': 21, 'name': 'Genre_Misc'},\n",
       "  {'idx': 22, 'name': 'Genre_Fighting'},\n",
       "  {'idx': 23, 'name': 'Genre_Simulation'},\n",
       "  {'idx': 24, 'name': 'Genre_Adventure'},\n",
       "  {'idx': 25, 'name': 'Genre_Strategy'},\n",
       "  {'idx': 26, 'name': 'Rating_T'},\n",
       "  {'idx': 27, 'name': 'Rating_E'},\n",
       "  {'idx': 28, 'name': 'Rating_M'},\n",
       "  {'idx': 29, 'name': 'Rating_E10+'}],\n",
       " 'numeric': [{'idx': 30, 'name': 'Critic_Score'},\n",
       "  {'idx': 31, 'name': 'Critic_Count'},\n",
       "  {'idx': 32, 'name': 'User_Score'},\n",
       "  {'idx': 33, 'name': 'User_Count'}]}"
      ]
     },
     "execution_count": 12,
     "metadata": {},
     "output_type": "execute_result"
    }
   ],
   "source": [
    "videoGameSales_fitted.schema[\"features\"].metadata[\"ml_attr\"][\"attrs\"]"
   ]
  },
  {
   "cell_type": "code",
   "execution_count": 13,
   "metadata": {},
   "outputs": [
    {
     "name": "stdout",
     "output_type": "stream",
     "text": [
      "+-----+--------------------+\n",
      "|label|            features|\n",
      "+-----+--------------------+\n",
      "| 0.01|(34,[0,15,28,30,3...|\n",
      "| 0.01|(34,[0,15,28,30,3...|\n",
      "| 0.01|(34,[0,16,27,30,3...|\n",
      "| 0.01|(34,[0,17,28,30,3...|\n",
      "| 0.01|(34,[0,17,29,30,3...|\n",
      "+-----+--------------------+\n",
      "only showing top 5 rows\n",
      "\n"
     ]
    }
   ],
   "source": [
    "train.show(5)"
   ]
  },
  {
   "cell_type": "code",
   "execution_count": 14,
   "metadata": {},
   "outputs": [],
   "source": [
    "# function to evaluate regression model (with target field name 'label')\n",
    "def RegressionModelsEvaluator(name, predictions):    \n",
    "    predictionAndLabels =predictions.select(\"prediction\", \"label\").rdd\n",
    "    metrics = RegressionMetrics(predictionAndLabels)\n",
    "    print(name,\"MAE:\", metrics.meanAbsoluteError,\"RMSE:\",metrics.rootMeanSquaredError,\"R2:\",metrics.r2)"
   ]
  },
  {
   "cell_type": "code",
   "execution_count": 15,
   "metadata": {},
   "outputs": [],
   "source": [
    "# function to evaluate regression model (with target field name 'NA_Sales')\n",
    "def RegressionModelsEvaluator2(name, predictions):    \n",
    "    predictionAndLabels =predictions.select(\"prediction\", \"NA_Sales\").rdd\n",
    "    metrics = RegressionMetrics(predictionAndLabels)\n",
    "    print(name,\"MAE:\", metrics.meanAbsoluteError,\"RMSE:\", metrics.rootMeanSquaredError,\"R2:\", metrics.r2)"
   ]
  },
  {
   "cell_type": "markdown",
   "metadata": {},
   "source": [
    "### I) Linear Regression (Data Prepared with RFormula)"
   ]
  },
  {
   "cell_type": "code",
   "execution_count": 16,
   "metadata": {},
   "outputs": [
    {
     "name": "stdout",
     "output_type": "stream",
     "text": [
      "Coefficients: [0.14144911059260423,0.06808900107952881,0.023592157339702678,-0.03006992152725865,0.16949649861109534,0.08495969301930362,-0.011855918189083698,0.04110208630155655,-0.3400316142695568,0.09314940849938402,-0.1135709689900666,0.14198006080346065,0.37354305971575885,-0.07595010921191243,-0.15732967065962994,0.05826798646304408,0.042841743389255435,0.059196392231643254,-0.02414501640426887,0.03148308625143497,0.033937764287222734,0.14849528406525192,0.0471275249892468,0.10294109976235097,-0.07232883309930105,-0.12253323586891206,0.13626869492616717,0.22488435308269955,0.10793640962520645,0.17750847170095282,0.009869371067262253,0.006489410936566472,-0.002486482027059155,0.00021697737602888252]\n",
      "Intercept: -0.6294084337106871\n",
      "p-values [0.015085641009881856, 0.24578433750195483, 0.6883809228846667, 0.6174679049882656, 0.0051059778231579145, 0.16401360640328821, 0.8483017071317955, 0.5089617138251881, 1.4831715589025407e-07, 0.15249024802401046, 0.08589710513735715, 0.04176806150267076, 9.808720591308884e-08, 0.2795549214787587, 0.043251323459563285, 0.28103934975728384, 0.4320960168234169, 0.2935955831204913, 0.6657343390347072, 0.5723570018503641, 0.5548320736536496, 0.01013949906678513, 0.4266088612663592, 0.09122265430077192, 0.24386211982127115, 0.055679008618689574, 0.25234144329349073, 0.05978209694239256, 0.366446662861005, 0.1388871775806546, 0.0, 0.0, 3.3740430878781424e-05, 0.0, 1.8108783487402746e-05]\n",
      "  \n",
      "LR: MAE: 0.26 RMSE: 0.42 R2: 0.26\n"
     ]
    }
   ],
   "source": [
    "## Model Building and Evaluation\n",
    "lr = LinearRegression(labelCol='label')\n",
    "lrModel = lr.fit(train)\n",
    "print(\"Coefficients:\", lrModel.coefficients)\n",
    "print(\"Intercept:\", lrModel.intercept)\n",
    "print(\"p-values\", lrModel.summary.pValues)\n",
    "print(\"  \")\n",
    "predictions = lrModel.evaluate(test)\n",
    "print(\"LR:\",\"MAE:\",round(predictions.meanAbsoluteError,2),\"RMSE:\",round(predictions.rootMeanSquaredError,2),\"R2:\",round(predictions.r2,2))"
   ]
  },
  {
   "cell_type": "markdown",
   "metadata": {},
   "source": [
    "## Pipeline Approach"
   ]
  },
  {
   "cell_type": "code",
   "execution_count": 17,
   "metadata": {},
   "outputs": [],
   "source": [
    "## Pipeline approach\n",
    "# Preparing stages\n",
    "#Preparing stages\n",
    "s1_platform_indexer = StringIndexer(inputCol = 'Platform', outputCol = 'PlatformIndex')\n",
    "s1_platform_encoder = OneHotEncoder(inputCol = 'PlatformIndex', outputCol = 'PlatformVec')\n",
    "s2_genre_indexer = StringIndexer(inputCol = 'Genre', outputCol = 'GenreIndex')\n",
    "s2_genre_encoder = OneHotEncoder(inputCol = 'GenreIndex', outputCol = 'GenreVec')\n",
    "s3_rating_indexer = StringIndexer(inputCol = 'Rating', outputCol = 'RatingIndex')\n",
    "s3_rating_encoder = OneHotEncoder(inputCol = 'RatingIndex', outputCol = 'RatingVec')\n",
    "s4_assembler = VectorAssembler(inputCols=['PlatformVec', 'GenreVec', 'RatingVec', \"Critic_Score\",\"Critic_Count\",\"User_Score\", \"User_Count\"], outputCol=\"features\")"
   ]
  },
  {
   "cell_type": "code",
   "execution_count": 18,
   "metadata": {},
   "outputs": [
    {
     "name": "stdout",
     "output_type": "stream",
     "text": [
      "+--------+------------+------+------------+------------+----------+----------+--------+-------------+---------------+----------+--------------+-----------+-------------+--------------------+\n",
      "|Platform|       Genre|Rating|Critic_Score|Critic_Count|User_Score|User_Count|NA_Sales|PlatformIndex|    PlatformVec|GenreIndex|      GenreVec|RatingIndex|    RatingVec|            features|\n",
      "+--------+------------+------+------------+------------+----------+----------+--------+-------------+---------------+----------+--------------+-----------+-------------+--------------------+\n",
      "|      PS|Role-Playing|     T|          92|          20|        91|      1282|    3.01|         12.0|(15,[12],[1.0])|       3.0|(11,[3],[1.0])|        0.0|(4,[0],[1.0])|(34,[12,18,26,30,...|\n",
      "|     PS2|Role-Playing|     T|          92|          53|        86|      1056|    2.91|          0.0| (15,[0],[1.0])|       3.0|(11,[3],[1.0])|        0.0|(4,[0],[1.0])|(34,[0,18,26,30,3...|\n",
      "|      PC|  Simulation|     T|          86|          75|        75|       886|    0.99|          8.0| (15,[8],[1.0])|       8.0|(11,[8],[1.0])|        0.0|(4,[0],[1.0])|(34,[8,23,26,30,3...|\n",
      "|      PS|Role-Playing|     T|          90|          24|        85|       644|    2.28|         12.0|(15,[12],[1.0])|       3.0|(11,[3],[1.0])|        0.0|(4,[0],[1.0])|(34,[12,18,26,30,...|\n",
      "|      PS|    Fighting|     T|          96|          15|        90|       367|    3.27|         12.0|(15,[12],[1.0])|       7.0|(11,[7],[1.0])|        0.0|(4,[0],[1.0])|(34,[12,22,26,30,...|\n",
      "+--------+------------+------+------------+------------+----------+----------+--------+-------------+---------------+----------+--------------+-----------+-------------+--------------------+\n",
      "only showing top 5 rows\n",
      "\n"
     ]
    }
   ],
   "source": [
    "## pipeline approach\n",
    "vgs_stages = [s1_platform_indexer, s1_platform_encoder,s2_genre_indexer, s2_genre_encoder,s3_rating_indexer,s3_rating_encoder,s4_assembler]\n",
    "vgs_pipeline = Pipeline(stages = vgs_stages)\n",
    "pipelineModel = vgs_pipeline.fit(videoGameSales_1)\n",
    "vgs_pipeline = pipelineModel.transform(videoGameSales_1)\n",
    "vgs_pipeline.show(5)"
   ]
  },
  {
   "cell_type": "code",
   "execution_count": 20,
   "metadata": {},
   "outputs": [],
   "source": [
    "#splitting the data in train and test\n",
    "train_pipe, test_pipe = vgs_pipeline.select('NA_Sales', 'features').randomSplit([0.7, 0.3], seed=2018)"
   ]
  },
  {
   "cell_type": "code",
   "execution_count": 22,
   "metadata": {},
   "outputs": [
    {
     "name": "stdout",
     "output_type": "stream",
     "text": [
      "+--------+--------------------+\n",
      "|NA_Sales|            features|\n",
      "+--------+--------------------+\n",
      "|    0.01|(34,[0,15,28,30,3...|\n",
      "|    0.01|(34,[0,15,28,30,3...|\n",
      "|    0.01|(34,[0,16,27,30,3...|\n",
      "|    0.01|(34,[0,17,28,30,3...|\n",
      "|    0.01|(34,[0,17,29,30,3...|\n",
      "+--------+--------------------+\n",
      "only showing top 5 rows\n",
      "\n"
     ]
    }
   ],
   "source": [
    "train_pipe.show(5)"
   ]
  },
  {
   "cell_type": "markdown",
   "metadata": {},
   "source": [
    "### II) Linear Regression (data prepared with pipeline approach)"
   ]
  },
  {
   "cell_type": "code",
   "execution_count": 23,
   "metadata": {},
   "outputs": [
    {
     "name": "stdout",
     "output_type": "stream",
     "text": [
      "Coefficients: [0.14144911059260423,0.06808900107952881,0.023592157339702678,-0.03006992152725865,0.16949649861109534,0.08495969301930362,-0.011855918189083698,0.04110208630155655,-0.3400316142695568,0.09314940849938402,-0.1135709689900666,0.14198006080346065,0.37354305971575885,-0.07595010921191243,-0.15732967065962994,0.05826798646304408,0.042841743389255435,0.059196392231643254,-0.02414501640426887,0.03148308625143497,0.033937764287222734,0.14849528406525192,0.0471275249892468,0.10294109976235097,-0.07232883309930105,-0.12253323586891206,0.13626869492616717,0.22488435308269955,0.10793640962520645,0.17750847170095282,0.009869371067262253,0.006489410936566472,-0.002486482027059155,0.00021697737602888252]\n",
      "Intercept: -0.6294084337106871\n",
      "p-values [0.015085641009881856, 0.24578433750195483, 0.6883809228846667, 0.6174679049882656, 0.0051059778231579145, 0.16401360640328821, 0.8483017071317955, 0.5089617138251881, 1.4831715589025407e-07, 0.15249024802401046, 0.08589710513735715, 0.04176806150267076, 9.808720591308884e-08, 0.2795549214787587, 0.043251323459563285, 0.28103934975728384, 0.4320960168234169, 0.2935955831204913, 0.6657343390347072, 0.5723570018503641, 0.5548320736536496, 0.01013949906678513, 0.4266088612663592, 0.09122265430077192, 0.24386211982127115, 0.055679008618689574, 0.25234144329349073, 0.05978209694239256, 0.366446662861005, 0.1388871775806546, 0.0, 0.0, 3.3740430878781424e-05, 0.0, 1.8108783487402746e-05]\n",
      "  \n",
      "LR: MAE: 0.26 RMSE: 0.42 R2: 0.26\n"
     ]
    }
   ],
   "source": [
    "# Model Building and evaluation(data prepared with pipeline method)\n",
    "## Model Building and Evaluation\n",
    "lr1 = LinearRegression(labelCol='NA_Sales')\n",
    "lrModel_pipe = lr1.fit(train_pipe)\n",
    "print(\"Coefficients:\", lrModel_pipe.coefficients)\n",
    "print(\"Intercept:\", lrModel_pipe.intercept)\n",
    "print(\"p-values\", lrModel_pipe.summary.pValues)\n",
    "print(\"  \")\n",
    "predictions_pipe = lrModel_pipe.evaluate(test_pipe)\n",
    "print(\"LR:\",\"MAE:\",round(predictions_pipe.meanAbsoluteError,2),\"RMSE:\",round(predictions_pipe.rootMeanSquaredError,2),\"R2:\",round(predictions_pipe.r2,2))"
   ]
  },
  {
   "cell_type": "markdown",
   "metadata": {},
   "source": [
    "### III) Generalized Linear Model (Data Preparation: RFormula)"
   ]
  },
  {
   "cell_type": "code",
   "execution_count": 24,
   "metadata": {},
   "outputs": [
    {
     "name": "stdout",
     "output_type": "stream",
     "text": [
      "Coefficients: [0.14144911059260423,0.06808900107952881,0.023592157339702678,-0.03006992152725865,0.16949649861109534,0.08495969301930362,-0.011855918189083698,0.04110208630155655,-0.3400316142695568,0.09314940849938402,-0.1135709689900666,0.14198006080346065,0.37354305971575885,-0.07595010921191243,-0.15732967065962994,0.05826798646304408,0.042841743389255435,0.059196392231643254,-0.02414501640426887,0.03148308625143497,0.033937764287222734,0.14849528406525192,0.0471275249892468,0.10294109976235097,-0.07232883309930105,-0.12253323586891206,0.13626869492616717,0.22488435308269955,0.10793640962520645,0.17750847170095282,0.009869371067262253,0.006489410936566472,-0.002486482027059155,0.00021697737602888252]\n",
      "Intercept: -0.6294084337106871\n",
      "p-values [0.015085641009881856, 0.24578433750195483, 0.6883809228846667, 0.6174679049882656, 0.0051059778231579145, 0.16401360640328821, 0.8483017071317955, 0.5089617138251881, 1.4831715589025407e-07, 0.15249024802401046, 0.08589710513735715, 0.04176806150267076, 9.808720591308884e-08, 0.2795549214787587, 0.043251323459563285, 0.28103934975728384, 0.4320960168234169, 0.2935955831204913, 0.6657343390347072, 0.5723570018503641, 0.5548320736536496, 0.01013949906678513, 0.4266088612663592, 0.09122265430077192, 0.24386211982127115, 0.055679008618689574, 0.25234144329349073, 0.05978209694239256, 0.366446662861005, 0.1388871775806546, 0.0, 0.0, 3.3740430878781424e-05, 0.0, 1.8108783487402746e-05]\n",
      "\n",
      "GLR: MAE: 0.2645212652256557 RMSE: 0.41791178421905467 R2: 0.25835886206247816\n"
     ]
    }
   ],
   "source": [
    "## Generalized Linear Model (data preparation: RFormula)\n",
    "glr = GeneralizedLinearRegression(labelCol='label')\n",
    "glrModel = glr.fit(train)\n",
    "print(\"Coefficients:\",glrModel.coefficients)\n",
    "print(\"Intercept:\",glrModel.intercept)\n",
    "print(\"p-values\", glrModel.summary.pValues)\n",
    "print(\"\")\n",
    "predictions2 = glrModel.transform(test)\n",
    "RegressionModelsEvaluator(\"GLR:\",predictions2)"
   ]
  },
  {
   "cell_type": "markdown",
   "metadata": {},
   "source": [
    "###  IV) Generalized Linear Model (Data Preparation: pipeline)"
   ]
  },
  {
   "cell_type": "code",
   "execution_count": 25,
   "metadata": {},
   "outputs": [
    {
     "name": "stdout",
     "output_type": "stream",
     "text": [
      "Coefficients: [0.14144911059260423,0.06808900107952881,0.023592157339702678,-0.03006992152725865,0.16949649861109534,0.08495969301930362,-0.011855918189083698,0.04110208630155655,-0.3400316142695568,0.09314940849938402,-0.1135709689900666,0.14198006080346065,0.37354305971575885,-0.07595010921191243,-0.15732967065962994,0.05826798646304408,0.042841743389255435,0.059196392231643254,-0.02414501640426887,0.03148308625143497,0.033937764287222734,0.14849528406525192,0.0471275249892468,0.10294109976235097,-0.07232883309930105,-0.12253323586891206,0.13626869492616717,0.22488435308269955,0.10793640962520645,0.17750847170095282,0.009869371067262253,0.006489410936566472,-0.002486482027059155,0.00021697737602888252]\n",
      "Intercept: -0.6294084337106871\n",
      "p-values [0.015085641009881856, 0.24578433750195483, 0.6883809228846667, 0.6174679049882656, 0.0051059778231579145, 0.16401360640328821, 0.8483017071317955, 0.5089617138251881, 1.4831715589025407e-07, 0.15249024802401046, 0.08589710513735715, 0.04176806150267076, 9.808720591308884e-08, 0.2795549214787587, 0.043251323459563285, 0.28103934975728384, 0.4320960168234169, 0.2935955831204913, 0.6657343390347072, 0.5723570018503641, 0.5548320736536496, 0.01013949906678513, 0.4266088612663592, 0.09122265430077192, 0.24386211982127115, 0.055679008618689574, 0.25234144329349073, 0.05978209694239256, 0.366446662861005, 0.1388871775806546, 0.0, 0.0, 3.3740430878781424e-05, 0.0, 1.8108783487402746e-05]\n",
      "\n",
      "GLR: MAE: 0.2645212652256557 RMSE: 0.41791178421905467 R2: 0.25835886206247816\n"
     ]
    }
   ],
   "source": [
    "## Generalized Linear Model (data preparation: pipeline)\n",
    "glr = GeneralizedLinearRegression(labelCol='NA_Sales')\n",
    "glrModel_pipe = glr.fit(train_pipe)\n",
    "print(\"Coefficients:\",glrModel_pipe.coefficients)\n",
    "print(\"Intercept:\",glrModel_pipe.intercept)\n",
    "print(\"p-values\", glrModel_pipe.summary.pValues)\n",
    "print(\"\")\n",
    "predictions_pipe2 = glrModel_pipe.transform(test_pipe)\n",
    "RegressionModelsEvaluator2(\"GLR:\",predictions_pipe2)"
   ]
  },
  {
   "cell_type": "markdown",
   "metadata": {},
   "source": [
    "### V) Decision Tree Regression (Data Preparation : RFormula)"
   ]
  },
  {
   "cell_type": "code",
   "execution_count": 26,
   "metadata": {},
   "outputs": [
    {
     "name": "stdout",
     "output_type": "stream",
     "text": [
      "DecisionTreeRegressionModel (uid=DecisionTreeRegressor_49f290331174111419e8) of depth 4 with 31 nodes\n",
      "  If (feature 33 <= 65.5)\n",
      "   If (feature 33 <= 19.5)\n",
      "    If (feature 27 in {0.0})\n",
      "     If (feature 4 in {0.0})\n",
      "      Predict: 0.1285830784913352\n",
      "     Else (feature 4 not in {0.0})\n",
      "      Predict: 0.23761061946902662\n",
      "    Else (feature 27 not in {0.0})\n",
      "     If (feature 33 <= 12.5)\n",
      "      Predict: 0.1974137931034483\n",
      "     Else (feature 33 > 12.5)\n",
      "      Predict: 0.31580487804878066\n",
      "   Else (feature 33 > 19.5)\n",
      "    If (feature 30 <= 78.5)\n",
      "     If (feature 21 in {0.0})\n",
      "      Predict: 0.25295918367346926\n",
      "     Else (feature 21 not in {0.0})\n",
      "      Predict: 0.6142222222222226\n",
      "    Else (feature 30 > 78.5)\n",
      "     If (feature 16 in {0.0})\n",
      "      Predict: 0.4131600000000002\n",
      "     Else (feature 16 not in {0.0})\n",
      "      Predict: 0.6814117647058822\n",
      "  Else (feature 33 > 65.5)\n",
      "   If (feature 30 <= 86.5)\n",
      "    If (feature 8 in {1.0})\n",
      "     If (feature 33 <= 1106.5)\n",
      "      Predict: 0.06863157894736843\n",
      "     Else (feature 33 > 1106.5)\n",
      "      Predict: 0.26047619047619053\n",
      "    Else (feature 8 not in {1.0})\n",
      "     If (feature 33 <= 526.5)\n",
      "      Predict: 0.5352972972972974\n",
      "     Else (feature 33 > 526.5)\n",
      "      Predict: 1.1440659340659343\n",
      "   Else (feature 30 > 86.5)\n",
      "    If (feature 8 in {1.0})\n",
      "     If (feature 31 <= 64.5)\n",
      "      Predict: 0.3181818181818181\n",
      "     Else (feature 31 > 64.5)\n",
      "      Predict: 1.033333333333333\n",
      "    Else (feature 8 not in {1.0})\n",
      "     If (feature 33 <= 526.5)\n",
      "      Predict: 0.9679999999999997\n",
      "     Else (feature 33 > 526.5)\n",
      "      Predict: 1.6043529411764705\n",
      "\n",
      "DT_rf: MAE: 0.25844481675080194 RMSE: 0.4203739121822897 R2: 0.24959435988821133\n",
      "DT2_rf: MAE: 0.2549784093012612 RMSE: 0.42225865046746586 R2: 0.24285041725782786\n"
     ]
    }
   ],
   "source": [
    "## Decision Tree Regression\n",
    "# with maxDepth = 3, Data Preparation: RFormula\n",
    "dtr = DecisionTreeRegressor(labelCol='label', maxDepth=4)\n",
    "dtrModel = dtr.fit(train)\n",
    "print(dtrModel.toDebugString)\n",
    "predictions3 = dtrModel.transform(test)\n",
    "RegressionModelsEvaluator(\"DT_rf:\",predictions3)\n",
    "\n",
    "# with default settings,  Data Preparation: RFormula\n",
    "dtr2 = DecisionTreeRegressor(labelCol='label')\n",
    "predictions4 = dtr2.fit(train).transform(test)\n",
    "RegressionModelsEvaluator(\"DT2_rf:\",predictions4)"
   ]
  },
  {
   "cell_type": "markdown",
   "metadata": {},
   "source": [
    "### VI) Decision Tree Regression (Data Preparation: Pipeline)"
   ]
  },
  {
   "cell_type": "code",
   "execution_count": 27,
   "metadata": {},
   "outputs": [
    {
     "name": "stdout",
     "output_type": "stream",
     "text": [
      "DecisionTreeRegressionModel (uid=DecisionTreeRegressor_4b9aa24d99d7a7473a84) of depth 4 with 31 nodes\n",
      "  If (feature 33 <= 65.5)\n",
      "   If (feature 33 <= 19.5)\n",
      "    If (feature 27 in {0.0})\n",
      "     If (feature 4 in {0.0})\n",
      "      Predict: 0.1285830784913352\n",
      "     Else (feature 4 not in {0.0})\n",
      "      Predict: 0.23761061946902662\n",
      "    Else (feature 27 not in {0.0})\n",
      "     If (feature 33 <= 12.5)\n",
      "      Predict: 0.1974137931034483\n",
      "     Else (feature 33 > 12.5)\n",
      "      Predict: 0.31580487804878066\n",
      "   Else (feature 33 > 19.5)\n",
      "    If (feature 30 <= 78.5)\n",
      "     If (feature 21 in {0.0})\n",
      "      Predict: 0.25295918367346926\n",
      "     Else (feature 21 not in {0.0})\n",
      "      Predict: 0.6142222222222226\n",
      "    Else (feature 30 > 78.5)\n",
      "     If (feature 16 in {0.0})\n",
      "      Predict: 0.4131600000000002\n",
      "     Else (feature 16 not in {0.0})\n",
      "      Predict: 0.6814117647058822\n",
      "  Else (feature 33 > 65.5)\n",
      "   If (feature 30 <= 86.5)\n",
      "    If (feature 8 in {1.0})\n",
      "     If (feature 33 <= 1106.5)\n",
      "      Predict: 0.06863157894736843\n",
      "     Else (feature 33 > 1106.5)\n",
      "      Predict: 0.26047619047619053\n",
      "    Else (feature 8 not in {1.0})\n",
      "     If (feature 33 <= 526.5)\n",
      "      Predict: 0.5352972972972974\n",
      "     Else (feature 33 > 526.5)\n",
      "      Predict: 1.1440659340659343\n",
      "   Else (feature 30 > 86.5)\n",
      "    If (feature 8 in {1.0})\n",
      "     If (feature 31 <= 64.5)\n",
      "      Predict: 0.3181818181818181\n",
      "     Else (feature 31 > 64.5)\n",
      "      Predict: 1.033333333333333\n",
      "    Else (feature 8 not in {1.0})\n",
      "     If (feature 33 <= 526.5)\n",
      "      Predict: 0.9679999999999997\n",
      "     Else (feature 33 > 526.5)\n",
      "      Predict: 1.6043529411764705\n",
      "\n",
      "DT_pipe: MAE: 0.25844481675080194 RMSE: 0.4203739121822897 R2: 0.24959435988821133\n",
      "DT2_pipe: MAE: 0.2549784093012612 RMSE: 0.42225865046746586 R2: 0.24285041725782786\n"
     ]
    }
   ],
   "source": [
    "## Decision Tree Regression\n",
    "# with maxDepth = 3, Data Preparation: Pipeline\n",
    "dtr_pipe = DecisionTreeRegressor(labelCol='NA_Sales', maxDepth=4)\n",
    "dtrModel_pipe = dtr_pipe.fit(train_pipe)\n",
    "print(dtrModel_pipe.toDebugString)\n",
    "predictions_pipe3 = dtrModel_pipe.transform(test_pipe)\n",
    "RegressionModelsEvaluator2(\"DT_pipe:\",predictions_pipe3)\n",
    "\n",
    "# with default settings,  Data Preparation: Pipeline\n",
    "dtr2_pipe = DecisionTreeRegressor(labelCol='NA_Sales')\n",
    "predictions_pipe4 = dtr2_pipe.fit(train_pipe).transform(test_pipe)\n",
    "RegressionModelsEvaluator2(\"DT2_pipe:\",predictions_pipe4)"
   ]
  },
  {
   "cell_type": "markdown",
   "metadata": {},
   "source": [
    "### VII) Random Forest Regression(Data Preparation: RFormula)"
   ]
  },
  {
   "cell_type": "code",
   "execution_count": 28,
   "metadata": {},
   "outputs": [
    {
     "name": "stdout",
     "output_type": "stream",
     "text": [
      "RandomForestRegressionModel (uid=RandomForestRegressor_4858beb4ace5908f2717) with 3 trees\n",
      "  Tree 0 (weight 1.0):\n",
      "    If (feature 30 <= 84.5)\n",
      "     If (feature 4 in {0.0})\n",
      "      If (feature 33 <= 40.5)\n",
      "       Predict: 0.2000703642384106\n",
      "      Else (feature 33 > 40.5)\n",
      "       Predict: 0.43840927920463957\n",
      "     Else (feature 4 not in {0.0})\n",
      "      If (feature 18 in {1.0})\n",
      "       Predict: 0.15733333333333333\n",
      "      Else (feature 18 not in {1.0})\n",
      "       Predict: 0.4\n",
      "    Else (feature 30 > 84.5)\n",
      "     If (feature 33 <= 46.5)\n",
      "      If (feature 33 <= 19.5)\n",
      "       Predict: 0.32875\n",
      "      Else (feature 33 > 19.5)\n",
      "       Predict: 0.5119736842105262\n",
      "     Else (feature 33 > 46.5)\n",
      "      If (feature 31 <= 64.5)\n",
      "       Predict: 0.8721543408360128\n",
      "      Else (feature 31 > 64.5)\n",
      "       Predict: 1.349405940594059\n",
      "  Tree 1 (weight 1.0):\n",
      "    If (feature 33 <= 65.5)\n",
      "     If (feature 33 <= 24.5)\n",
      "      If (feature 26 in {1.0})\n",
      "       Predict: 0.14029601029601033\n",
      "      Else (feature 26 not in {1.0})\n",
      "       Predict: 0.20152564956695548\n",
      "     Else (feature 33 > 24.5)\n",
      "      If (feature 30 <= 77.5)\n",
      "       Predict: 0.266203288490284\n",
      "      Else (feature 30 > 77.5)\n",
      "       Predict: 0.5036624203821656\n",
      "    Else (feature 33 > 65.5)\n",
      "     If (feature 30 <= 82.5)\n",
      "      If (feature 8 in {1.0})\n",
      "       Predict: 0.13605769230769232\n",
      "      Else (feature 8 not in {1.0})\n",
      "       Predict: 0.5263006756756755\n",
      "     Else (feature 30 > 82.5)\n",
      "      If (feature 33 <= 526.5)\n",
      "       Predict: 0.7894904458598727\n",
      "      Else (feature 33 > 526.5)\n",
      "       Predict: 1.2355851063829781\n",
      "  Tree 2 (weight 1.0):\n",
      "    If (feature 33 <= 79.5)\n",
      "     If (feature 33 <= 19.5)\n",
      "      If (feature 33 <= 12.5)\n",
      "       Predict: 0.1493577981651376\n",
      "      Else (feature 33 > 12.5)\n",
      "       Predict: 0.22959083469721764\n",
      "     Else (feature 33 > 19.5)\n",
      "      If (feature 30 <= 83.5)\n",
      "       Predict: 0.3086367485182049\n",
      "      Else (feature 30 > 83.5)\n",
      "       Predict: 0.6998148148148149\n",
      "    Else (feature 33 > 79.5)\n",
      "     If (feature 0 in {0.0})\n",
      "      If (feature 8 in {1.0})\n",
      "       Predict: 0.16750000000000004\n",
      "      Else (feature 8 not in {1.0})\n",
      "       Predict: 0.740425273390036\n",
      "     Else (feature 0 not in {0.0})\n",
      "      If (feature 18 in {1.0})\n",
      "       Predict: 0.3115384615384616\n",
      "      Else (feature 18 not in {1.0})\n",
      "       Predict: 1.151684210526316\n",
      "\n",
      "RF: MAE: 0.26432483578350513 RMSE: 0.4208329486315838 R2: 0.24795462153712844\n",
      "RF2: MAE: 0.24852380080967254 RMSE: 0.40212695389751996 R2: 0.31332546065889244\n"
     ]
    }
   ],
   "source": [
    "## Random Forest Regression\n",
    "# with numTrees = 3,maxDepth = 3 and Data Preparation: RFormula\n",
    "rfr = RandomForestRegressor(labelCol='label', numTrees=3, maxDepth=3)\n",
    "rfrModel = rfr.fit(train)\n",
    "print(rfrModel.toDebugString)\n",
    "predictions5 = rfrModel.transform(test)\n",
    "RegressionModelsEvaluator(\"RF:\",predictions5)\n",
    "\n",
    "# with default settings,  Data Preparation: RFormula\n",
    "rfr2 = RandomForestRegressor(labelCol='label')\n",
    "predictions6 = rfr2.fit(train).transform(test)\n",
    "RegressionModelsEvaluator(\"RF2:\",predictions6)"
   ]
  },
  {
   "cell_type": "markdown",
   "metadata": {},
   "source": [
    "### VIII) Random Forest Regression(Data Preparation: Pipeline)"
   ]
  },
  {
   "cell_type": "code",
   "execution_count": 29,
   "metadata": {},
   "outputs": [
    {
     "name": "stdout",
     "output_type": "stream",
     "text": [
      "RandomForestRegressionModel (uid=RandomForestRegressor_48e8a37c577f116da963) with 3 trees\n",
      "  Tree 0 (weight 1.0):\n",
      "    If (feature 30 <= 84.5)\n",
      "     If (feature 4 in {0.0})\n",
      "      If (feature 33 <= 40.5)\n",
      "       Predict: 0.2000703642384106\n",
      "      Else (feature 33 > 40.5)\n",
      "       Predict: 0.43840927920463957\n",
      "     Else (feature 4 not in {0.0})\n",
      "      If (feature 18 in {1.0})\n",
      "       Predict: 0.15733333333333333\n",
      "      Else (feature 18 not in {1.0})\n",
      "       Predict: 0.4\n",
      "    Else (feature 30 > 84.5)\n",
      "     If (feature 33 <= 46.5)\n",
      "      If (feature 33 <= 19.5)\n",
      "       Predict: 0.32875\n",
      "      Else (feature 33 > 19.5)\n",
      "       Predict: 0.5119736842105262\n",
      "     Else (feature 33 > 46.5)\n",
      "      If (feature 31 <= 64.5)\n",
      "       Predict: 0.8721543408360128\n",
      "      Else (feature 31 > 64.5)\n",
      "       Predict: 1.349405940594059\n",
      "  Tree 1 (weight 1.0):\n",
      "    If (feature 33 <= 65.5)\n",
      "     If (feature 33 <= 24.5)\n",
      "      If (feature 26 in {1.0})\n",
      "       Predict: 0.14029601029601033\n",
      "      Else (feature 26 not in {1.0})\n",
      "       Predict: 0.20152564956695548\n",
      "     Else (feature 33 > 24.5)\n",
      "      If (feature 30 <= 77.5)\n",
      "       Predict: 0.266203288490284\n",
      "      Else (feature 30 > 77.5)\n",
      "       Predict: 0.5036624203821656\n",
      "    Else (feature 33 > 65.5)\n",
      "     If (feature 30 <= 82.5)\n",
      "      If (feature 8 in {1.0})\n",
      "       Predict: 0.13605769230769232\n",
      "      Else (feature 8 not in {1.0})\n",
      "       Predict: 0.5263006756756755\n",
      "     Else (feature 30 > 82.5)\n",
      "      If (feature 33 <= 526.5)\n",
      "       Predict: 0.7894904458598727\n",
      "      Else (feature 33 > 526.5)\n",
      "       Predict: 1.2355851063829781\n",
      "  Tree 2 (weight 1.0):\n",
      "    If (feature 33 <= 79.5)\n",
      "     If (feature 33 <= 19.5)\n",
      "      If (feature 33 <= 12.5)\n",
      "       Predict: 0.1493577981651376\n",
      "      Else (feature 33 > 12.5)\n",
      "       Predict: 0.22959083469721764\n",
      "     Else (feature 33 > 19.5)\n",
      "      If (feature 30 <= 83.5)\n",
      "       Predict: 0.3086367485182049\n",
      "      Else (feature 30 > 83.5)\n",
      "       Predict: 0.6998148148148149\n",
      "    Else (feature 33 > 79.5)\n",
      "     If (feature 0 in {0.0})\n",
      "      If (feature 8 in {1.0})\n",
      "       Predict: 0.16750000000000004\n",
      "      Else (feature 8 not in {1.0})\n",
      "       Predict: 0.740425273390036\n",
      "     Else (feature 0 not in {0.0})\n",
      "      If (feature 18 in {1.0})\n",
      "       Predict: 0.3115384615384616\n",
      "      Else (feature 18 not in {1.0})\n",
      "       Predict: 1.151684210526316\n",
      "\n",
      "RF: MAE: 0.26432483578350513 RMSE: 0.4208329486315838 R2: 0.24795462153712844\n",
      "RF2: MAE: 0.24852380080967254 RMSE: 0.40212695389751996 R2: 0.31332546065889244\n"
     ]
    }
   ],
   "source": [
    "## Random Forest Regression\n",
    "# with numTrees = 3, maxDepth = 3, and Data Preparation: Pipeline\n",
    "rfr_pipe = RandomForestRegressor(labelCol='NA_Sales', numTrees=3, maxDepth=3)\n",
    "rfrModel_pipe = rfr_pipe.fit(train_pipe)\n",
    "print(rfrModel_pipe.toDebugString)\n",
    "\n",
    "predictions_pipe5 = rfrModel_pipe.transform(test_pipe)\n",
    "RegressionModelsEvaluator2(\"RF:\",predictions_pipe5)\n",
    "\n",
    "\n",
    "# with default settings,  Data Preparation: Pipeline\n",
    "rfr2_pipe = RandomForestRegressor(labelCol='NA_Sales')\n",
    "predictions_pipe6 = rfr2_pipe.fit(train_pipe).transform(test_pipe)\n",
    "RegressionModelsEvaluator2(\"RF2:\",predictions_pipe6)"
   ]
  },
  {
   "cell_type": "markdown",
   "metadata": {},
   "source": [
    "### IX) Gradient-boosted Tree Regression (Data Preparation: RFormula)"
   ]
  },
  {
   "cell_type": "code",
   "execution_count": 30,
   "metadata": {},
   "outputs": [
    {
     "name": "stdout",
     "output_type": "stream",
     "text": [
      "GBTRegressionModel (uid=GBTRegressor_4614856b941a9006bb66) with 3 trees\n",
      "  Tree 0 (weight 1.0):\n",
      "    If (feature 33 <= 65.5)\n",
      "     If (feature 33 <= 19.5)\n",
      "      If (feature 27 in {0.0})\n",
      "       Predict: 0.1398446069469835\n",
      "      Else (feature 27 not in {0.0})\n",
      "       Predict: 0.2262040332147095\n",
      "     Else (feature 33 > 19.5)\n",
      "      If (feature 30 <= 78.5)\n",
      "       Predict: 0.27049622437971954\n",
      "      Else (feature 30 > 78.5)\n",
      "       Predict: 0.48122388059701493\n",
      "    Else (feature 33 > 65.5)\n",
      "     If (feature 30 <= 86.5)\n",
      "      If (feature 8 in {1.0})\n",
      "       Predict: 0.12744525547445257\n",
      "      Else (feature 8 not in {1.0})\n",
      "       Predict: 0.6019614921780988\n",
      "     Else (feature 30 > 86.5)\n",
      "      If (feature 8 in {1.0})\n",
      "       Predict: 0.4282051282051282\n",
      "      Else (feature 8 not in {1.0})\n",
      "       Predict: 1.193375\n",
      "  Tree 1 (weight 0.1):\n",
      "    If (feature 33 <= 526.5)\n",
      "     If (feature 28 in {1.0})\n",
      "      If (feature 33 <= 65.5)\n",
      "       Predict: -0.15868956398902256\n",
      "      Else (feature 33 > 65.5)\n",
      "       Predict: -0.40398082477219666\n",
      "     Else (feature 28 not in {1.0})\n",
      "      If (feature 14 in {1.0})\n",
      "       Predict: -0.8352857290285904\n",
      "      Else (feature 14 not in {1.0})\n",
      "       Predict: 0.015540018996256236\n",
      "    Else (feature 33 > 526.5)\n",
      "     If (feature 8 in {1.0})\n",
      "      If (feature 31 <= 64.5)\n",
      "       Predict: -0.006891345642918778\n",
      "      Else (feature 31 > 64.5)\n",
      "       Predict: 0.8405015908665543\n",
      "     Else (feature 8 not in {1.0})\n",
      "      If (feature 33 <= 1106.5)\n",
      "       Predict: 0.6903770478130842\n",
      "      Else (feature 33 > 1106.5)\n",
      "       Predict: 1.3173490212595265\n",
      "  Tree 2 (weight 0.1):\n",
      "    If (feature 33 <= 526.5)\n",
      "     If (feature 27 in {0.0})\n",
      "      If (feature 33 <= 65.5)\n",
      "       Predict: -0.03729691627788589\n",
      "      Else (feature 33 > 65.5)\n",
      "       Predict: -0.2539120642782054\n",
      "     Else (feature 27 not in {0.0})\n",
      "      If (feature 33 <= 12.5)\n",
      "       Predict: -0.06068848402177371\n",
      "      Else (feature 33 > 12.5)\n",
      "       Predict: 0.23083035721131415\n",
      "    Else (feature 33 > 526.5)\n",
      "     If (feature 31 <= 64.5)\n",
      "      If (feature 12 in {0.0})\n",
      "       Predict: 0.18255593829344816\n",
      "      Else (feature 12 not in {0.0})\n",
      "       Predict: 2.4888259917650606\n",
      "     Else (feature 31 > 64.5)\n",
      "      If (feature 30 <= 79.5)\n",
      "       Predict: 0.0976657257472724\n",
      "      Else (feature 30 > 79.5)\n",
      "       Predict: 1.0616575848646603\n",
      "\n",
      "GB: MAE: 0.259086376019306 RMSE: 0.42075373709265984 R2: 0.24823770329486305\n",
      "GB2: MAE: 0.23743625060484091 RMSE: 0.396861512782928 R2: 0.33119033012289323\n"
     ]
    }
   ],
   "source": [
    "## Gradient-boosted Tree Regression\n",
    "# with maxDepth = 3, maxIter = 3, and Data Preparation: RFormula\n",
    "gbtr = GBTRegressor(labelCol='label', maxDepth=3, maxIter=3)\n",
    "gbtrModel = gbtr.fit(train)\n",
    "print(gbtrModel.toDebugString)\n",
    "predictions7 = gbtrModel.transform(test)\n",
    "RegressionModelsEvaluator(\"GB:\",predictions7)\n",
    "\n",
    "# with default settings,  Data Preparation: RFormula\n",
    "gbtr2 = GBTRegressor(labelCol='label')\n",
    "predictions8 = gbtr2.fit(train).transform(test)\n",
    "RegressionModelsEvaluator(\"GB2:\",predictions8)"
   ]
  },
  {
   "cell_type": "markdown",
   "metadata": {},
   "source": [
    "### X) Gradient-boosted Tree Regression(Data Preparation: RFormula)"
   ]
  },
  {
   "cell_type": "code",
   "execution_count": 31,
   "metadata": {},
   "outputs": [
    {
     "name": "stdout",
     "output_type": "stream",
     "text": [
      "GBTRegressionModel (uid=GBTRegressor_43dbb9eb9855ed7550a5) with 3 trees\n",
      "  Tree 0 (weight 1.0):\n",
      "    If (feature 33 <= 65.5)\n",
      "     If (feature 33 <= 19.5)\n",
      "      If (feature 27 in {0.0})\n",
      "       Predict: 0.1398446069469835\n",
      "      Else (feature 27 not in {0.0})\n",
      "       Predict: 0.2262040332147095\n",
      "     Else (feature 33 > 19.5)\n",
      "      If (feature 30 <= 78.5)\n",
      "       Predict: 0.27049622437971954\n",
      "      Else (feature 30 > 78.5)\n",
      "       Predict: 0.48122388059701493\n",
      "    Else (feature 33 > 65.5)\n",
      "     If (feature 30 <= 86.5)\n",
      "      If (feature 8 in {1.0})\n",
      "       Predict: 0.12744525547445257\n",
      "      Else (feature 8 not in {1.0})\n",
      "       Predict: 0.6019614921780988\n",
      "     Else (feature 30 > 86.5)\n",
      "      If (feature 8 in {1.0})\n",
      "       Predict: 0.4282051282051282\n",
      "      Else (feature 8 not in {1.0})\n",
      "       Predict: 1.193375\n",
      "  Tree 1 (weight 0.1):\n",
      "    If (feature 33 <= 526.5)\n",
      "     If (feature 28 in {1.0})\n",
      "      If (feature 33 <= 65.5)\n",
      "       Predict: -0.15868956398902256\n",
      "      Else (feature 33 > 65.5)\n",
      "       Predict: -0.40398082477219666\n",
      "     Else (feature 28 not in {1.0})\n",
      "      If (feature 14 in {1.0})\n",
      "       Predict: -0.8352857290285904\n",
      "      Else (feature 14 not in {1.0})\n",
      "       Predict: 0.015540018996256236\n",
      "    Else (feature 33 > 526.5)\n",
      "     If (feature 8 in {1.0})\n",
      "      If (feature 31 <= 64.5)\n",
      "       Predict: -0.006891345642918778\n",
      "      Else (feature 31 > 64.5)\n",
      "       Predict: 0.8405015908665543\n",
      "     Else (feature 8 not in {1.0})\n",
      "      If (feature 33 <= 1106.5)\n",
      "       Predict: 0.6903770478130842\n",
      "      Else (feature 33 > 1106.5)\n",
      "       Predict: 1.3173490212595265\n",
      "  Tree 2 (weight 0.1):\n",
      "    If (feature 33 <= 526.5)\n",
      "     If (feature 27 in {0.0})\n",
      "      If (feature 33 <= 65.5)\n",
      "       Predict: -0.03729691627788589\n",
      "      Else (feature 33 > 65.5)\n",
      "       Predict: -0.2539120642782054\n",
      "     Else (feature 27 not in {0.0})\n",
      "      If (feature 33 <= 12.5)\n",
      "       Predict: -0.06068848402177371\n",
      "      Else (feature 33 > 12.5)\n",
      "       Predict: 0.23083035721131415\n",
      "    Else (feature 33 > 526.5)\n",
      "     If (feature 31 <= 64.5)\n",
      "      If (feature 12 in {0.0})\n",
      "       Predict: 0.18255593829344816\n",
      "      Else (feature 12 not in {0.0})\n",
      "       Predict: 2.4888259917650606\n",
      "     Else (feature 31 > 64.5)\n",
      "      If (feature 30 <= 79.5)\n",
      "       Predict: 0.0976657257472724\n",
      "      Else (feature 30 > 79.5)\n",
      "       Predict: 1.0616575848646603\n",
      "\n",
      "GB: MAE: 0.259086376019306 RMSE: 0.42075373709265984 R2: 0.24823770329486305\n",
      "GB2: MAE: 0.23743625060484091 RMSE: 0.396861512782928 R2: 0.33119033012289323\n"
     ]
    }
   ],
   "source": [
    "## Gradient-boosted Tree Regression\n",
    "# with maxDepth = 3,maxIter = 3, and Data Preparation: RFormula\n",
    "gbtr_pipe = GBTRegressor(labelCol='NA_Sales', maxDepth=3, maxIter=3)\n",
    "gbtrModel_pipe = gbtr_pipe.fit(train_pipe)\n",
    "print(gbtrModel_pipe.toDebugString)\n",
    "predictions_pipe7 = gbtrModel_pipe.transform(test_pipe)\n",
    "RegressionModelsEvaluator2(\"GB:\",predictions_pipe7)\n",
    "\n",
    "# with default settings,  Data Preparation: Pipeline\n",
    "gbtr2_pipe = GBTRegressor(labelCol='NA_Sales')\n",
    "predictions_pipe8 = gbtr2_pipe.fit(train_pipe).transform(test_pipe)\n",
    "RegressionModelsEvaluator2(\"GB2:\",predictions_pipe8)"
   ]
  },
  {
   "cell_type": "markdown",
   "metadata": {},
   "source": [
    "## Linear Regression Model Tuning"
   ]
  },
  {
   "cell_type": "code",
   "execution_count": 32,
   "metadata": {},
   "outputs": [
    {
     "name": "stdout",
     "output_type": "stream",
     "text": [
      "LR: MAE: 0.27102462170078284 RMSE: 0.43330749971570104 R2: 0.2027087674035042\n"
     ]
    }
   ],
   "source": [
    "# Parameter tuning\n",
    "# Linear Regression\n",
    "lr_parameterTuning = LinearRegression(labelCol='label')\n",
    "# ParamGrid 1\n",
    "paramGrid = (ParamGridBuilder()\n",
    "             .addGrid(lr_parameterTuning.regParam, [0.0, 0.5])\n",
    "             .addGrid(lr_parameterTuning.maxIter, [10, 50])\n",
    "             .addGrid(lr_parameterTuning.elasticNetParam, [0.0, 0.3])\n",
    "             .build())\n",
    "evaluator = RegressionEvaluator(labelCol='label', metricName='mae')\n",
    "\n",
    "#cv = CrossValidator(estimator=lr, estimatorParamMaps=paramGrid, evaluator=evaluator, numFolds=5)\n",
    "lrTuned = TrainValidationSplit(estimator=lr_parameterTuning, estimatorParamMaps=paramGrid, evaluator=evaluator, trainRatio=0.6)\n",
    "\n",
    "#cvModel = cv.fit(train)\n",
    "lrTunedModel = lrTuned.fit(train)\n",
    "#cv_predictions = cvModel.transform(test)\n",
    "split_predictions = lrTunedModel.transform(test)\n",
    "RegressionModelsEvaluator(\"LR:\",split_predictions)"
   ]
  },
  {
   "cell_type": "code",
   "execution_count": 33,
   "metadata": {},
   "outputs": [
    {
     "name": "stdout",
     "output_type": "stream",
     "text": [
      "+--------+------------+------+------------+------------+----------+----------+--------+--------------------+\n",
      "|Platform|       Genre|Rating|Critic_Score|Critic_Count|User_Score|User_Count|NA_Sales|User Score Logarithm|\n",
      "+--------+------------+------+------------+------------+----------+----------+--------+--------------------+\n",
      "|      PS|Role-Playing|     T|          92|          20|        91|      1282|    3.01|    4.51085950651685|\n",
      "|     PS2|Role-Playing|     T|          92|          53|        86|      1056|    2.91|   4.454347296253507|\n",
      "|      PC|  Simulation|     T|          86|          75|        75|       886|    0.99|    4.31748811353631|\n",
      "|      PS|Role-Playing|     T|          90|          24|        85|       644|    2.28|   4.442651256490317|\n",
      "|      PS|    Fighting|     T|          96|          15|        90|       367|    3.27|   4.499809670330265|\n",
      "+--------+------------+------+------------+------------+----------+----------+--------+--------------------+\n",
      "only showing top 5 rows\n",
      "\n",
      "Coefficients: [0.1395360645827782,0.06901116806647503,0.023711981080407195,-0.032301144327764784,0.1686203528984138,0.08459108073375556,-0.012249921072674844,0.03884606949044259,-0.3392727381095117,0.09014293793033477,-0.11343067379623235,0.1435609362594702,0.3696803101571629,-0.07489002916899223,-0.15751446048145876,0.058743623859283424,0.0431804664585706,0.059744794542666006,-0.02399457425912818,0.031828050773947646,0.033695152694394874,0.14826788744303135,0.04672114319526073,0.10219765328263843,-0.07382358608608657,-0.12397227682941112,0.1360458135450946,0.22474594255505742,0.10751000541070091,0.17747605521848647,0.00985608667405933,0.0064769608755447065,-0.000721292254788226,0.0002162290303039337,-0.09747714909458757]\n",
      "Intercept: -0.33964425575364143\n",
      "p-values [0.016562709516191987, 0.2394992368554787, 0.6868802422815488, 0.5918484839758156, 0.005343604560267501, 0.16585415699044814, 0.8433264072453852, 0.5327416154968194, 1.5829040500570102e-07, 0.16658839771627632, 0.08628331832960678, 0.03959007024166228, 1.3804623155699858e-07, 0.28636790414489655, 0.04300538730155412, 0.27714527465846484, 0.42846998698452654, 0.2891645773785596, 0.6676904888577719, 0.5681598263111769, 0.557665149502619, 0.010255253424584332, 0.430613828866683, 0.0936041221778039, 0.23437924628258155, 0.05292169021750048, 0.2531151978249775, 0.05993762785439993, 0.3683421215443916, 0.13895633812946118, 0.0, 0.0, 0.6904161315500563, 0.0, 0.3016910072529344, 0.28334499503638777]\n",
      "  \n",
      "LR: MAE: 0.26476567574540216 RMSE: 0.41796351079922583 R2: 0.258175259037291\n"
     ]
    }
   ],
   "source": [
    "## Future Generation\n",
    "vgs_fg = videoGameSales_1.withColumn(\"User Score Logarithm\",log(col(\"User_Score\")))\n",
    "vgs_fg.show(5)\n",
    "formula_2 = RFormula(formula=\"NA_Sales ~ .\", featuresCol=\"features\", labelCol=\"label\")\n",
    "vgs_2_fitted = formula.fit(vgs_fg).transform(vgs_fg)\n",
    "train_fg, test_fg = vgs_2_fitted.select('label', 'features').randomSplit([0.7, 0.3], seed=2018)\n",
    "lr_fg = LinearRegression(labelCol='label', featuresCol='features',maxIter=10)\n",
    "lr_fg_Model = lr_fg.fit(train_fg)\n",
    "print(\"Coefficients:\", lr_fg_Model.coefficients)\n",
    "print(\"Intercept:\", lr_fg_Model.intercept)\n",
    "print(\"p-values\", lr_fg_Model.summary.pValues)\n",
    "predictions_fg = lr_fg_Model.transform(test_fg)\n",
    "print(\"  \")\n",
    "RegressionModelsEvaluator(\"LR:\",predictions_fg)"
   ]
  }
 ],
 "metadata": {
  "kernelspec": {
   "display_name": "Python 3",
   "language": "python",
   "name": "python3"
  },
  "language_info": {
   "codemirror_mode": {
    "name": "ipython",
    "version": 3
   },
   "file_extension": ".py",
   "mimetype": "text/x-python",
   "name": "python",
   "nbconvert_exporter": "python",
   "pygments_lexer": "ipython3",
   "version": "3.6.4"
  }
 },
 "nbformat": 4,
 "nbformat_minor": 2
}
